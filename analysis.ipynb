{
 "cells": [
  {
   "cell_type": "code",
   "execution_count": 1,
   "id": "81a938ac",
   "metadata": {},
   "outputs": [],
   "source": [
    "import pandas as pd\n",
    "import os\n",
    "from pathlib import Path\n",
    "import plotly.express as px\n",
    "import plotly.graph_objects as go\n",
    "import numpy as np\n",
    "\n",
    "# Set path using Path.cwd()\n",
    "path_cwd = Path.cwd()\n",
    "path_data = str(path_cwd) + '/CSV/'\n",
    "path_data_more = str(path_cwd) + '/CSV_more/'"
   ]
  },
  {
   "cell_type": "code",
   "execution_count": 2,
   "id": "f2bc2c00",
   "metadata": {},
   "outputs": [],
   "source": [
    "import pandas as pd\n",
    "import numpy as np\n",
    "from scipy.stats import linregress\n",
    "import plotly.express as px\n",
    "from pathlib import Path\n",
    "\n",
    "# Set path\n",
    "path_cwd = Path.cwd()\n",
    "path_data_more = str(path_cwd) + '/data_input/'\n",
    "\n",
    "# Files\n",
    "files = ['2003-2005_CHS.csv', '2007-2014_CHS.csv', '2015-2022_CHS.csv']\n",
    "\n",
    "# Indicator map (updated with missing variations)\n",
    "indicator_map = {\n",
    "    'Very good or excellent self-rated mental health': 'perceived mental health good',\n",
    "    'Perceived mental health, very good or excellent': 'perceived mental health good',\n",
    "    'Fair or poor self-rated mental health': 'perceived mental health poor',  # If exists in early data\n",
    "    'Perceived mental health, fair or poor': 'perceived mental health poor',\n",
    "    'Life satisfaction, satisfied or very satisfied': 'life satisfaction',\n",
    "    'Quite a lot of life stress': 'life stress',\n",
    "    'Perceived life stress, quite a lot': 'life stress',\n",
    "    'Perceived life stress, most days quite a bit or extremely stressful': 'life stress',\n",
    "    'Life stress, quite a lot (18 years and over)': 'life stress',\n",
    "    'Very strong or somewhat strong sense of belonging to local community': 'sense of belonging',\n",
    "    'Sense of belonging to local community, somewhat strong or very strong': 'sense of belonging',\n",
    "    'Mood disorder': 'mood disorder',\n",
    "    'Anxiety disorder': 'anxiety disorder'\n",
    "}\n",
    "\n",
    "# Char map (unchanged)\n",
    "char_map = {\n",
    "    'Number of persons': 'number',\n",
    "    'Percent': 'percent',\n",
    "    'Low 95% confidence interval, number of persons': 'low95_number',\n",
    "    'High 95% confidence interval, number of persons': 'high95_number',\n",
    "    'Low 95% confidence interval, percent': 'low95_percent',\n",
    "    'High 95% confidence interval, percent': 'high95_percent',\n",
    "    'Statistically different from the Canada rate': 'diffcan',\n",
    "    'Statistically different from the provincial rate': 'diffprov',\n",
    "    'Statistically different from the peer group rate': 'diffpeer',\n",
    "    'Statistically different from previous cycle': 'diffprev',\n",
    "    'Statistically different from previous reference period': 'diffprev'\n",
    "}\n",
    "\n",
    "# Geog map (unchanged)\n",
    "geog_map = {\n",
    "    'Canada': 'Canada',\n",
    "    'Newfoundland and Labrador': 'Newfoundland and Labrador',\n",
    "    'Prince Edward Island': 'Prince Edward Island',\n",
    "    'Nova Scotia': 'Nova Scotia',\n",
    "    'New Brunswick': 'New Brunswick',\n",
    "    'Quebec': 'Quebec',\n",
    "    'Ontario': 'Ontario',\n",
    "    'Manitoba': 'Manitoba',\n",
    "    'Saskatchewan': 'Saskatchewan',\n",
    "    'Alberta': 'Alberta',\n",
    "    'British Columbia': 'British Columbia',\n",
    "    'Yukon': 'Yukon',\n",
    "    'Northwest Territories': 'Northwest Territories',\n",
    "    'Nunavut': 'Nunavut',\n",
    "    'Calgary Zone, Alberta': 'Calgary',\n",
    "    'Calgary Health Region, Alberta': 'Calgary',\n",
    "    'Calgary, Alberta': 'Calgary',\n",
    "    'Lethbridge, Alberta': 'Lethbridge',\n",
    "    'Edmonton, Alberta': 'Edmonton',\n",
    "    'South Zone, Alberta': 'South Zone',\n",
    "    'Central Zone, Alberta': 'Central Zone',\n",
    "    'North Zone, Alberta': 'North Zone',\n",
    "    'Large urban population centres, Alberta': 'Large Urban Alberta',\n",
    "    'Medium population centres, Alberta': 'Medium Alberta',\n",
    "    'Small population centres, Alberta': 'Small Alberta',\n",
    "    'Rural areas, Alberta': 'Rural Alberta',\n",
    "    'Chinook Regional Health Authority, Alberta': 'Chinook',\n",
    "    'Palliser Health Region, Alberta': 'Palliser',\n",
    "    'David Thompson Regional Health Authority, Alberta': 'David Thompson',\n",
    "    'East Central Health, Alberta': 'East Central',\n",
    "    'Capital Health, Alberta': 'Capital',\n",
    "    'Aspen Regional Health Authority, Alberta': 'Aspen',\n",
    "    'Peace Country Health, Alberta': 'Peace Country',\n",
    "    'Northern Lights Health Region, Alberta': 'Northern Lights'\n",
    "}\n",
    "\n",
    "# Data dict {geog: DF with 'period' index, 'indicator_char' columns}\n",
    "data_dict = {}\n",
    "\n",
    "# Process files\n",
    "for file in files:\n",
    "    df = pd.read_csv(path_data_more + file)\n",
    "    \n",
    "    # Standardize indicator and char\n",
    "    df['indicator'] = df['Indicators'].map(indicator_map)\n",
    "    df['char'] = df['Characteristics'].map(char_map)\n",
    "    df = df.dropna(subset=['indicator', 'char'])\n",
    "    \n",
    "    # Map geog\n",
    "    df['geog'] = df['GEO'].map(geog_map)\n",
    "    df = df.dropna(subset=['geog'])\n",
    "    \n",
    "    # Pivot with aggfunc='first' for duplicates\n",
    "    pivot = df.pivot_table(index=['geog', 'REF_DATE'], columns=['indicator', 'char'], values='VALUE', aggfunc='first')\n",
    "    pivot.columns = ['_'.join(col) for col in pivot.columns]\n",
    "    \n",
    "    # Add to data_dict\n",
    "    for g in pivot.index.get_level_values('geog').unique():\n",
    "        g_df = pivot.xs(g).rename_axis('period')\n",
    "        g_df.index = g_df.index.astype(str)  # Ensure str\n",
    "        g_df = g_df.apply(pd.to_numeric, errors='coerce')\n",
    "        if g not in data_dict:\n",
    "            data_dict[g] = g_df\n",
    "        else:\n",
    "            data_dict[g] = data_dict[g].combine_first(g_df)\n",
    "\n",
    "# Sort periods\n",
    "for g in data_dict:\n",
    "    data_dict[g] = data_dict[g].sort_index(key=lambda x: x.str.split('/').str[0].astype(int))\n",
    "\n",
    "# Updated summarize function (with significance in trend)\n",
    "def summarize_indicator(indicator, char='percent', regions=None):\n",
    "    if not regions:\n",
    "        regions = list(data_dict.keys())\n",
    "    summaries = []\n",
    "    for reg in regions:\n",
    "        col = f'{indicator}_{char}'\n",
    "        if reg in data_dict and col in data_dict[reg].columns:\n",
    "            df = data_dict[reg][col].dropna()\n",
    "            if df.empty:\n",
    "                continue\n",
    "            min_val = df.min()\n",
    "            min_period = df.idxmin()\n",
    "            max_val = df.max()\n",
    "            max_period = df.idxmax()\n",
    "            avg_val = df.mean()\n",
    "            # Trend with significance\n",
    "            periods_num = df.index.str.split('/').str[0].astype(int).tolist()\n",
    "            if len(df) > 1:\n",
    "                slope, _, _, p, _ = linregress(periods_num, df.values)\n",
    "                trend = 'upward' if slope > 0 else 'downward' if slope < 0 else 'stable'\n",
    "                sig = 'significant' if p < 0.05 else 'not significant'\n",
    "                trend_str = f'{trend} ({sig})'\n",
    "            else:\n",
    "                trend_str = 'insufficient data'\n",
    "            summaries.append({\n",
    "                'region': reg,\n",
    "                'min': min_val,\n",
    "                'min_period': min_period,\n",
    "                'max': max_val,\n",
    "                'max_period': max_period,\n",
    "                'average': avg_val,\n",
    "                'trend': trend_str\n",
    "            })\n",
    "    if summaries:\n",
    "        summary_df = pd.DataFrame(summaries)\n",
    "        print(f\"Summary for {indicator}:\")\n",
    "        print(summary_df.to_string(index=False))\n",
    "        \n",
    "        # Calgary-focused comparisons\n",
    "        if 'Calgary' in summary_df['region'].values:\n",
    "            cal_avg = summary_df[summary_df['region'] == 'Calgary']['average'].values[0]\n",
    "            print(\"\\nCalgary Comparisons:\")\n",
    "            for _, row in summary_df.iterrows():\n",
    "                if row['region'] != 'Calgary':\n",
    "                    comp = 'higher' if cal_avg > row['average'] else 'lower' if cal_avg < row['average'] else 'equal'\n",
    "                    print(f\"Calgary average ({cal_avg:.1f}%) is {comp} than {row['region']} ({row['average']:.1f}%).\")\n",
    "                    print(f\"Trend in Calgary: {summary_df[summary_df['region'] == 'Calgary']['trend'].values[0]}.\")\n",
    "        \n",
    "        return summary_df\n",
    "    print(f\"No data for {indicator}.\")\n",
    "    return None\n",
    "\n",
    "\n"
   ]
  },
  {
   "cell_type": "code",
   "execution_count": 3,
   "id": "1ed2a0fe",
   "metadata": {},
   "outputs": [
    {
     "name": "stdout",
     "output_type": "stream",
     "text": [
      "Summary for perceived mental health good:\n",
      "                   region  min min_period  max max_period   average                      trend\n",
      "                   Canada 56.9  2021/2022 74.6  2007/2008 70.020000     downward (significant)\n",
      "Newfoundland and Labrador 58.3  2021/2022 77.0  2007/2008 71.510000     downward (significant)\n",
      "     Prince Edward Island 55.9  2021/2022 75.3       2005 70.140000     downward (significant)\n",
      "              Nova Scotia 54.6  2021/2022 73.6  2009/2010 67.500000     downward (significant)\n",
      "            New Brunswick 54.6  2021/2022 70.8  2007/2008 65.550000     downward (significant)\n",
      "                   Quebec 65.3  2021/2022 77.2  2007/2008 73.570000     downward (significant)\n",
      "                  Ontario 54.6  2021/2022 71.1  2015/2016 64.875000 downward (not significant)\n",
      "                 Manitoba 55.3  2021/2022 72.9       2003 68.070000     downward (significant)\n",
      "             Saskatchewan 52.6  2021/2022 71.9  2007/2008 67.560000     downward (significant)\n",
      "                  Alberta 55.8  2021/2022 75.0  2007/2008 70.460000     downward (significant)\n",
      "         British Columbia 53.1  2021/2022 71.4  2007/2008 67.130000     downward (significant)\n",
      "                    Yukon 47.2  2021/2022 73.7       2005 67.100000     downward (significant)\n",
      "    Northwest Territories 42.3  2021/2022 72.4       2005 62.130000     downward (significant)\n",
      "                  Nunavut 46.5  2021/2022 68.4  2009/2010 57.420000     downward (significant)\n",
      "                  Calgary 57.7  2021/2022 77.8  2007/2008 72.410000     downward (significant)\n",
      "                  Calgary 57.7  2021/2022 77.8  2007/2008 72.410000     downward (significant)\n",
      "                  Calgary 57.7  2021/2022 77.8  2007/2008 72.410000     downward (significant)\n",
      "               Lethbridge 50.6  2021/2022 69.5  2017/2018 60.766667 downward (not significant)\n",
      "                 Edmonton 54.2  2021/2022 73.2  2015/2016 65.575000 downward (not significant)\n",
      "               South Zone 66.6  2013/2014 74.5  2009/2010 70.925000 downward (not significant)\n",
      "             Central Zone 70.3  2011/2012 73.4  2007/2008 71.550000 downward (not significant)\n",
      "               North Zone 69.1  2013/2014 73.7  2009/2010 70.775000 downward (not significant)\n",
      "      Large Urban Alberta 56.1  2021/2022 73.8  2015/2016 66.550000     downward (significant)\n",
      "           Medium Alberta 53.6  2021/2022 72.5  2015/2016 64.125000     downward (significant)\n",
      "            Small Alberta 53.3  2021/2022 71.9  2015/2016 65.800000 downward (not significant)\n",
      "            Rural Alberta 59.5  2021/2022 76.0  2015/2016 67.300000     downward (significant)\n",
      "                  Chinook 69.1       2003 74.5  2009/2010 72.725000   upward (not significant)\n",
      "                 Palliser 69.1       2003 74.6  2009/2010 71.525000       upward (significant)\n",
      "           David Thompson 69.4       2003 72.7  2007/2008 71.250000   upward (not significant)\n",
      "             East Central 68.9  2009/2010 75.1  2007/2008 71.825000 downward (not significant)\n",
      "                  Capital 72.1       2005 74.2  2007/2008 73.075000   upward (not significant)\n",
      "                    Aspen 66.7       2005 72.4  2009/2010 69.275000   upward (not significant)\n",
      "            Peace Country 67.2       2003 73.2  2009/2010 70.750000       upward (significant)\n",
      "          Northern Lights 70.6       2003 77.4  2009/2010 73.775000   upward (not significant)\n",
      "\n",
      "Calgary Comparisons:\n",
      "Calgary average (72.4%) is higher than Canada (70.0%).\n",
      "Trend in Calgary: downward (significant).\n",
      "Calgary average (72.4%) is higher than Newfoundland and Labrador (71.5%).\n",
      "Trend in Calgary: downward (significant).\n",
      "Calgary average (72.4%) is higher than Prince Edward Island (70.1%).\n",
      "Trend in Calgary: downward (significant).\n",
      "Calgary average (72.4%) is higher than Nova Scotia (67.5%).\n",
      "Trend in Calgary: downward (significant).\n",
      "Calgary average (72.4%) is higher than New Brunswick (65.6%).\n",
      "Trend in Calgary: downward (significant).\n",
      "Calgary average (72.4%) is lower than Quebec (73.6%).\n",
      "Trend in Calgary: downward (significant).\n",
      "Calgary average (72.4%) is higher than Ontario (64.9%).\n",
      "Trend in Calgary: downward (significant).\n",
      "Calgary average (72.4%) is higher than Manitoba (68.1%).\n",
      "Trend in Calgary: downward (significant).\n",
      "Calgary average (72.4%) is higher than Saskatchewan (67.6%).\n",
      "Trend in Calgary: downward (significant).\n",
      "Calgary average (72.4%) is higher than Alberta (70.5%).\n",
      "Trend in Calgary: downward (significant).\n",
      "Calgary average (72.4%) is higher than British Columbia (67.1%).\n",
      "Trend in Calgary: downward (significant).\n",
      "Calgary average (72.4%) is higher than Yukon (67.1%).\n",
      "Trend in Calgary: downward (significant).\n",
      "Calgary average (72.4%) is higher than Northwest Territories (62.1%).\n",
      "Trend in Calgary: downward (significant).\n",
      "Calgary average (72.4%) is higher than Nunavut (57.4%).\n",
      "Trend in Calgary: downward (significant).\n",
      "Calgary average (72.4%) is higher than Lethbridge (60.8%).\n",
      "Trend in Calgary: downward (significant).\n",
      "Calgary average (72.4%) is higher than Edmonton (65.6%).\n",
      "Trend in Calgary: downward (significant).\n",
      "Calgary average (72.4%) is higher than South Zone (70.9%).\n",
      "Trend in Calgary: downward (significant).\n",
      "Calgary average (72.4%) is higher than Central Zone (71.6%).\n",
      "Trend in Calgary: downward (significant).\n",
      "Calgary average (72.4%) is higher than North Zone (70.8%).\n",
      "Trend in Calgary: downward (significant).\n",
      "Calgary average (72.4%) is higher than Large Urban Alberta (66.5%).\n",
      "Trend in Calgary: downward (significant).\n",
      "Calgary average (72.4%) is higher than Medium Alberta (64.1%).\n",
      "Trend in Calgary: downward (significant).\n",
      "Calgary average (72.4%) is higher than Small Alberta (65.8%).\n",
      "Trend in Calgary: downward (significant).\n",
      "Calgary average (72.4%) is higher than Rural Alberta (67.3%).\n",
      "Trend in Calgary: downward (significant).\n",
      "Calgary average (72.4%) is lower than Chinook (72.7%).\n",
      "Trend in Calgary: downward (significant).\n",
      "Calgary average (72.4%) is higher than Palliser (71.5%).\n",
      "Trend in Calgary: downward (significant).\n",
      "Calgary average (72.4%) is higher than David Thompson (71.2%).\n",
      "Trend in Calgary: downward (significant).\n",
      "Calgary average (72.4%) is higher than East Central (71.8%).\n",
      "Trend in Calgary: downward (significant).\n",
      "Calgary average (72.4%) is lower than Capital (73.1%).\n",
      "Trend in Calgary: downward (significant).\n",
      "Calgary average (72.4%) is higher than Aspen (69.3%).\n",
      "Trend in Calgary: downward (significant).\n",
      "Calgary average (72.4%) is higher than Peace Country (70.8%).\n",
      "Trend in Calgary: downward (significant).\n",
      "Calgary average (72.4%) is lower than Northern Lights (73.8%).\n",
      "Trend in Calgary: downward (significant).\n"
     ]
    },
    {
     "data": {
      "text/html": [
       "<div>\n",
       "<style scoped>\n",
       "    .dataframe tbody tr th:only-of-type {\n",
       "        vertical-align: middle;\n",
       "    }\n",
       "\n",
       "    .dataframe tbody tr th {\n",
       "        vertical-align: top;\n",
       "    }\n",
       "\n",
       "    .dataframe thead th {\n",
       "        text-align: right;\n",
       "    }\n",
       "</style>\n",
       "<table border=\"1\" class=\"dataframe\">\n",
       "  <thead>\n",
       "    <tr style=\"text-align: right;\">\n",
       "      <th></th>\n",
       "      <th>region</th>\n",
       "      <th>min</th>\n",
       "      <th>min_period</th>\n",
       "      <th>max</th>\n",
       "      <th>max_period</th>\n",
       "      <th>average</th>\n",
       "      <th>trend</th>\n",
       "    </tr>\n",
       "  </thead>\n",
       "  <tbody>\n",
       "    <tr>\n",
       "      <th>0</th>\n",
       "      <td>Canada</td>\n",
       "      <td>56.9</td>\n",
       "      <td>2021/2022</td>\n",
       "      <td>74.6</td>\n",
       "      <td>2007/2008</td>\n",
       "      <td>70.020000</td>\n",
       "      <td>downward (significant)</td>\n",
       "    </tr>\n",
       "    <tr>\n",
       "      <th>1</th>\n",
       "      <td>Newfoundland and Labrador</td>\n",
       "      <td>58.3</td>\n",
       "      <td>2021/2022</td>\n",
       "      <td>77.0</td>\n",
       "      <td>2007/2008</td>\n",
       "      <td>71.510000</td>\n",
       "      <td>downward (significant)</td>\n",
       "    </tr>\n",
       "    <tr>\n",
       "      <th>2</th>\n",
       "      <td>Prince Edward Island</td>\n",
       "      <td>55.9</td>\n",
       "      <td>2021/2022</td>\n",
       "      <td>75.3</td>\n",
       "      <td>2005</td>\n",
       "      <td>70.140000</td>\n",
       "      <td>downward (significant)</td>\n",
       "    </tr>\n",
       "    <tr>\n",
       "      <th>3</th>\n",
       "      <td>Nova Scotia</td>\n",
       "      <td>54.6</td>\n",
       "      <td>2021/2022</td>\n",
       "      <td>73.6</td>\n",
       "      <td>2009/2010</td>\n",
       "      <td>67.500000</td>\n",
       "      <td>downward (significant)</td>\n",
       "    </tr>\n",
       "    <tr>\n",
       "      <th>4</th>\n",
       "      <td>New Brunswick</td>\n",
       "      <td>54.6</td>\n",
       "      <td>2021/2022</td>\n",
       "      <td>70.8</td>\n",
       "      <td>2007/2008</td>\n",
       "      <td>65.550000</td>\n",
       "      <td>downward (significant)</td>\n",
       "    </tr>\n",
       "    <tr>\n",
       "      <th>5</th>\n",
       "      <td>Quebec</td>\n",
       "      <td>65.3</td>\n",
       "      <td>2021/2022</td>\n",
       "      <td>77.2</td>\n",
       "      <td>2007/2008</td>\n",
       "      <td>73.570000</td>\n",
       "      <td>downward (significant)</td>\n",
       "    </tr>\n",
       "    <tr>\n",
       "      <th>6</th>\n",
       "      <td>Ontario</td>\n",
       "      <td>54.6</td>\n",
       "      <td>2021/2022</td>\n",
       "      <td>71.1</td>\n",
       "      <td>2015/2016</td>\n",
       "      <td>64.875000</td>\n",
       "      <td>downward (not significant)</td>\n",
       "    </tr>\n",
       "    <tr>\n",
       "      <th>7</th>\n",
       "      <td>Manitoba</td>\n",
       "      <td>55.3</td>\n",
       "      <td>2021/2022</td>\n",
       "      <td>72.9</td>\n",
       "      <td>2003</td>\n",
       "      <td>68.070000</td>\n",
       "      <td>downward (significant)</td>\n",
       "    </tr>\n",
       "    <tr>\n",
       "      <th>8</th>\n",
       "      <td>Saskatchewan</td>\n",
       "      <td>52.6</td>\n",
       "      <td>2021/2022</td>\n",
       "      <td>71.9</td>\n",
       "      <td>2007/2008</td>\n",
       "      <td>67.560000</td>\n",
       "      <td>downward (significant)</td>\n",
       "    </tr>\n",
       "    <tr>\n",
       "      <th>9</th>\n",
       "      <td>Alberta</td>\n",
       "      <td>55.8</td>\n",
       "      <td>2021/2022</td>\n",
       "      <td>75.0</td>\n",
       "      <td>2007/2008</td>\n",
       "      <td>70.460000</td>\n",
       "      <td>downward (significant)</td>\n",
       "    </tr>\n",
       "    <tr>\n",
       "      <th>10</th>\n",
       "      <td>British Columbia</td>\n",
       "      <td>53.1</td>\n",
       "      <td>2021/2022</td>\n",
       "      <td>71.4</td>\n",
       "      <td>2007/2008</td>\n",
       "      <td>67.130000</td>\n",
       "      <td>downward (significant)</td>\n",
       "    </tr>\n",
       "    <tr>\n",
       "      <th>11</th>\n",
       "      <td>Yukon</td>\n",
       "      <td>47.2</td>\n",
       "      <td>2021/2022</td>\n",
       "      <td>73.7</td>\n",
       "      <td>2005</td>\n",
       "      <td>67.100000</td>\n",
       "      <td>downward (significant)</td>\n",
       "    </tr>\n",
       "    <tr>\n",
       "      <th>12</th>\n",
       "      <td>Northwest Territories</td>\n",
       "      <td>42.3</td>\n",
       "      <td>2021/2022</td>\n",
       "      <td>72.4</td>\n",
       "      <td>2005</td>\n",
       "      <td>62.130000</td>\n",
       "      <td>downward (significant)</td>\n",
       "    </tr>\n",
       "    <tr>\n",
       "      <th>13</th>\n",
       "      <td>Nunavut</td>\n",
       "      <td>46.5</td>\n",
       "      <td>2021/2022</td>\n",
       "      <td>68.4</td>\n",
       "      <td>2009/2010</td>\n",
       "      <td>57.420000</td>\n",
       "      <td>downward (significant)</td>\n",
       "    </tr>\n",
       "    <tr>\n",
       "      <th>14</th>\n",
       "      <td>Calgary</td>\n",
       "      <td>57.7</td>\n",
       "      <td>2021/2022</td>\n",
       "      <td>77.8</td>\n",
       "      <td>2007/2008</td>\n",
       "      <td>72.410000</td>\n",
       "      <td>downward (significant)</td>\n",
       "    </tr>\n",
       "    <tr>\n",
       "      <th>15</th>\n",
       "      <td>Calgary</td>\n",
       "      <td>57.7</td>\n",
       "      <td>2021/2022</td>\n",
       "      <td>77.8</td>\n",
       "      <td>2007/2008</td>\n",
       "      <td>72.410000</td>\n",
       "      <td>downward (significant)</td>\n",
       "    </tr>\n",
       "    <tr>\n",
       "      <th>16</th>\n",
       "      <td>Calgary</td>\n",
       "      <td>57.7</td>\n",
       "      <td>2021/2022</td>\n",
       "      <td>77.8</td>\n",
       "      <td>2007/2008</td>\n",
       "      <td>72.410000</td>\n",
       "      <td>downward (significant)</td>\n",
       "    </tr>\n",
       "    <tr>\n",
       "      <th>17</th>\n",
       "      <td>Lethbridge</td>\n",
       "      <td>50.6</td>\n",
       "      <td>2021/2022</td>\n",
       "      <td>69.5</td>\n",
       "      <td>2017/2018</td>\n",
       "      <td>60.766667</td>\n",
       "      <td>downward (not significant)</td>\n",
       "    </tr>\n",
       "    <tr>\n",
       "      <th>18</th>\n",
       "      <td>Edmonton</td>\n",
       "      <td>54.2</td>\n",
       "      <td>2021/2022</td>\n",
       "      <td>73.2</td>\n",
       "      <td>2015/2016</td>\n",
       "      <td>65.575000</td>\n",
       "      <td>downward (not significant)</td>\n",
       "    </tr>\n",
       "    <tr>\n",
       "      <th>19</th>\n",
       "      <td>South Zone</td>\n",
       "      <td>66.6</td>\n",
       "      <td>2013/2014</td>\n",
       "      <td>74.5</td>\n",
       "      <td>2009/2010</td>\n",
       "      <td>70.925000</td>\n",
       "      <td>downward (not significant)</td>\n",
       "    </tr>\n",
       "    <tr>\n",
       "      <th>20</th>\n",
       "      <td>Central Zone</td>\n",
       "      <td>70.3</td>\n",
       "      <td>2011/2012</td>\n",
       "      <td>73.4</td>\n",
       "      <td>2007/2008</td>\n",
       "      <td>71.550000</td>\n",
       "      <td>downward (not significant)</td>\n",
       "    </tr>\n",
       "    <tr>\n",
       "      <th>21</th>\n",
       "      <td>North Zone</td>\n",
       "      <td>69.1</td>\n",
       "      <td>2013/2014</td>\n",
       "      <td>73.7</td>\n",
       "      <td>2009/2010</td>\n",
       "      <td>70.775000</td>\n",
       "      <td>downward (not significant)</td>\n",
       "    </tr>\n",
       "    <tr>\n",
       "      <th>22</th>\n",
       "      <td>Large Urban Alberta</td>\n",
       "      <td>56.1</td>\n",
       "      <td>2021/2022</td>\n",
       "      <td>73.8</td>\n",
       "      <td>2015/2016</td>\n",
       "      <td>66.550000</td>\n",
       "      <td>downward (significant)</td>\n",
       "    </tr>\n",
       "    <tr>\n",
       "      <th>23</th>\n",
       "      <td>Medium Alberta</td>\n",
       "      <td>53.6</td>\n",
       "      <td>2021/2022</td>\n",
       "      <td>72.5</td>\n",
       "      <td>2015/2016</td>\n",
       "      <td>64.125000</td>\n",
       "      <td>downward (significant)</td>\n",
       "    </tr>\n",
       "    <tr>\n",
       "      <th>24</th>\n",
       "      <td>Small Alberta</td>\n",
       "      <td>53.3</td>\n",
       "      <td>2021/2022</td>\n",
       "      <td>71.9</td>\n",
       "      <td>2015/2016</td>\n",
       "      <td>65.800000</td>\n",
       "      <td>downward (not significant)</td>\n",
       "    </tr>\n",
       "    <tr>\n",
       "      <th>25</th>\n",
       "      <td>Rural Alberta</td>\n",
       "      <td>59.5</td>\n",
       "      <td>2021/2022</td>\n",
       "      <td>76.0</td>\n",
       "      <td>2015/2016</td>\n",
       "      <td>67.300000</td>\n",
       "      <td>downward (significant)</td>\n",
       "    </tr>\n",
       "    <tr>\n",
       "      <th>26</th>\n",
       "      <td>Chinook</td>\n",
       "      <td>69.1</td>\n",
       "      <td>2003</td>\n",
       "      <td>74.5</td>\n",
       "      <td>2009/2010</td>\n",
       "      <td>72.725000</td>\n",
       "      <td>upward (not significant)</td>\n",
       "    </tr>\n",
       "    <tr>\n",
       "      <th>27</th>\n",
       "      <td>Palliser</td>\n",
       "      <td>69.1</td>\n",
       "      <td>2003</td>\n",
       "      <td>74.6</td>\n",
       "      <td>2009/2010</td>\n",
       "      <td>71.525000</td>\n",
       "      <td>upward (significant)</td>\n",
       "    </tr>\n",
       "    <tr>\n",
       "      <th>28</th>\n",
       "      <td>David Thompson</td>\n",
       "      <td>69.4</td>\n",
       "      <td>2003</td>\n",
       "      <td>72.7</td>\n",
       "      <td>2007/2008</td>\n",
       "      <td>71.250000</td>\n",
       "      <td>upward (not significant)</td>\n",
       "    </tr>\n",
       "    <tr>\n",
       "      <th>29</th>\n",
       "      <td>East Central</td>\n",
       "      <td>68.9</td>\n",
       "      <td>2009/2010</td>\n",
       "      <td>75.1</td>\n",
       "      <td>2007/2008</td>\n",
       "      <td>71.825000</td>\n",
       "      <td>downward (not significant)</td>\n",
       "    </tr>\n",
       "    <tr>\n",
       "      <th>30</th>\n",
       "      <td>Capital</td>\n",
       "      <td>72.1</td>\n",
       "      <td>2005</td>\n",
       "      <td>74.2</td>\n",
       "      <td>2007/2008</td>\n",
       "      <td>73.075000</td>\n",
       "      <td>upward (not significant)</td>\n",
       "    </tr>\n",
       "    <tr>\n",
       "      <th>31</th>\n",
       "      <td>Aspen</td>\n",
       "      <td>66.7</td>\n",
       "      <td>2005</td>\n",
       "      <td>72.4</td>\n",
       "      <td>2009/2010</td>\n",
       "      <td>69.275000</td>\n",
       "      <td>upward (not significant)</td>\n",
       "    </tr>\n",
       "    <tr>\n",
       "      <th>32</th>\n",
       "      <td>Peace Country</td>\n",
       "      <td>67.2</td>\n",
       "      <td>2003</td>\n",
       "      <td>73.2</td>\n",
       "      <td>2009/2010</td>\n",
       "      <td>70.750000</td>\n",
       "      <td>upward (significant)</td>\n",
       "    </tr>\n",
       "    <tr>\n",
       "      <th>33</th>\n",
       "      <td>Northern Lights</td>\n",
       "      <td>70.6</td>\n",
       "      <td>2003</td>\n",
       "      <td>77.4</td>\n",
       "      <td>2009/2010</td>\n",
       "      <td>73.775000</td>\n",
       "      <td>upward (not significant)</td>\n",
       "    </tr>\n",
       "  </tbody>\n",
       "</table>\n",
       "</div>"
      ],
      "text/plain": [
       "                       region   min min_period   max max_period    average  \\\n",
       "0                      Canada  56.9  2021/2022  74.6  2007/2008  70.020000   \n",
       "1   Newfoundland and Labrador  58.3  2021/2022  77.0  2007/2008  71.510000   \n",
       "2        Prince Edward Island  55.9  2021/2022  75.3       2005  70.140000   \n",
       "3                 Nova Scotia  54.6  2021/2022  73.6  2009/2010  67.500000   \n",
       "4               New Brunswick  54.6  2021/2022  70.8  2007/2008  65.550000   \n",
       "5                      Quebec  65.3  2021/2022  77.2  2007/2008  73.570000   \n",
       "6                     Ontario  54.6  2021/2022  71.1  2015/2016  64.875000   \n",
       "7                    Manitoba  55.3  2021/2022  72.9       2003  68.070000   \n",
       "8                Saskatchewan  52.6  2021/2022  71.9  2007/2008  67.560000   \n",
       "9                     Alberta  55.8  2021/2022  75.0  2007/2008  70.460000   \n",
       "10           British Columbia  53.1  2021/2022  71.4  2007/2008  67.130000   \n",
       "11                      Yukon  47.2  2021/2022  73.7       2005  67.100000   \n",
       "12      Northwest Territories  42.3  2021/2022  72.4       2005  62.130000   \n",
       "13                    Nunavut  46.5  2021/2022  68.4  2009/2010  57.420000   \n",
       "14                    Calgary  57.7  2021/2022  77.8  2007/2008  72.410000   \n",
       "15                    Calgary  57.7  2021/2022  77.8  2007/2008  72.410000   \n",
       "16                    Calgary  57.7  2021/2022  77.8  2007/2008  72.410000   \n",
       "17                 Lethbridge  50.6  2021/2022  69.5  2017/2018  60.766667   \n",
       "18                   Edmonton  54.2  2021/2022  73.2  2015/2016  65.575000   \n",
       "19                 South Zone  66.6  2013/2014  74.5  2009/2010  70.925000   \n",
       "20               Central Zone  70.3  2011/2012  73.4  2007/2008  71.550000   \n",
       "21                 North Zone  69.1  2013/2014  73.7  2009/2010  70.775000   \n",
       "22        Large Urban Alberta  56.1  2021/2022  73.8  2015/2016  66.550000   \n",
       "23             Medium Alberta  53.6  2021/2022  72.5  2015/2016  64.125000   \n",
       "24              Small Alberta  53.3  2021/2022  71.9  2015/2016  65.800000   \n",
       "25              Rural Alberta  59.5  2021/2022  76.0  2015/2016  67.300000   \n",
       "26                    Chinook  69.1       2003  74.5  2009/2010  72.725000   \n",
       "27                   Palliser  69.1       2003  74.6  2009/2010  71.525000   \n",
       "28             David Thompson  69.4       2003  72.7  2007/2008  71.250000   \n",
       "29               East Central  68.9  2009/2010  75.1  2007/2008  71.825000   \n",
       "30                    Capital  72.1       2005  74.2  2007/2008  73.075000   \n",
       "31                      Aspen  66.7       2005  72.4  2009/2010  69.275000   \n",
       "32              Peace Country  67.2       2003  73.2  2009/2010  70.750000   \n",
       "33            Northern Lights  70.6       2003  77.4  2009/2010  73.775000   \n",
       "\n",
       "                         trend  \n",
       "0       downward (significant)  \n",
       "1       downward (significant)  \n",
       "2       downward (significant)  \n",
       "3       downward (significant)  \n",
       "4       downward (significant)  \n",
       "5       downward (significant)  \n",
       "6   downward (not significant)  \n",
       "7       downward (significant)  \n",
       "8       downward (significant)  \n",
       "9       downward (significant)  \n",
       "10      downward (significant)  \n",
       "11      downward (significant)  \n",
       "12      downward (significant)  \n",
       "13      downward (significant)  \n",
       "14      downward (significant)  \n",
       "15      downward (significant)  \n",
       "16      downward (significant)  \n",
       "17  downward (not significant)  \n",
       "18  downward (not significant)  \n",
       "19  downward (not significant)  \n",
       "20  downward (not significant)  \n",
       "21  downward (not significant)  \n",
       "22      downward (significant)  \n",
       "23      downward (significant)  \n",
       "24  downward (not significant)  \n",
       "25      downward (significant)  \n",
       "26    upward (not significant)  \n",
       "27        upward (significant)  \n",
       "28    upward (not significant)  \n",
       "29  downward (not significant)  \n",
       "30    upward (not significant)  \n",
       "31    upward (not significant)  \n",
       "32        upward (significant)  \n",
       "33    upward (not significant)  "
      ]
     },
     "execution_count": 3,
     "metadata": {},
     "output_type": "execute_result"
    }
   ],
   "source": [
    "#MAKE Values A LIST\n",
    "geog_elements = list(geog_map.values()) #this is to use and compare ALL the regions \n",
    "#summarize and compare all regions for perceived mental health good\n",
    "summarize_indicator('perceived mental health good', regions=geog_elements)\n"
   ]
  },
  {
   "cell_type": "code",
   "execution_count": 4,
   "id": "bada8686",
   "metadata": {},
   "outputs": [
    {
     "data": {
      "application/vnd.plotly.v1+json": {
       "config": {
        "plotlyServerURL": "https://plot.ly"
       },
       "data": [
        {
         "hovertemplate": "region=Calgary<br>period=%{x}<br>value=%{y}<extra></extra>",
         "legendgroup": "Calgary",
         "line": {
          "color": "#636efa",
          "dash": "solid"
         },
         "marker": {
          "symbol": "circle"
         },
         "mode": "lines",
         "name": "Calgary",
         "orientation": "v",
         "showlegend": true,
         "type": "scatter",
         "x": [
          "2003",
          "2005",
          "2007/2008",
          "2009/2010",
          "2011/2012",
          "2013/2014",
          "2015/2016",
          "2017/2018",
          "2019/2020",
          "2021/2022"
         ],
         "xaxis": "x",
         "y": {
          "bdata": "MzMzMzOzUkDNzMzMzAxTQDMzMzMzc1NAMzMzMzOzUkAzMzMzMxNTQAAAAAAAQFJAAAAAAADgUkAAAAAAAOBRQAAAAAAAoFBAmpmZmZnZTEA=",
          "dtype": "f8"
         },
         "yaxis": "y"
        }
       ],
       "layout": {
        "legend": {
         "title": {
          "text": "region"
         },
         "tracegroupgap": 0
        },
        "template": {
         "data": {
          "bar": [
           {
            "error_x": {
             "color": "#2a3f5f"
            },
            "error_y": {
             "color": "#2a3f5f"
            },
            "marker": {
             "line": {
              "color": "#E5ECF6",
              "width": 0.5
             },
             "pattern": {
              "fillmode": "overlay",
              "size": 10,
              "solidity": 0.2
             }
            },
            "type": "bar"
           }
          ],
          "barpolar": [
           {
            "marker": {
             "line": {
              "color": "#E5ECF6",
              "width": 0.5
             },
             "pattern": {
              "fillmode": "overlay",
              "size": 10,
              "solidity": 0.2
             }
            },
            "type": "barpolar"
           }
          ],
          "carpet": [
           {
            "aaxis": {
             "endlinecolor": "#2a3f5f",
             "gridcolor": "white",
             "linecolor": "white",
             "minorgridcolor": "white",
             "startlinecolor": "#2a3f5f"
            },
            "baxis": {
             "endlinecolor": "#2a3f5f",
             "gridcolor": "white",
             "linecolor": "white",
             "minorgridcolor": "white",
             "startlinecolor": "#2a3f5f"
            },
            "type": "carpet"
           }
          ],
          "choropleth": [
           {
            "colorbar": {
             "outlinewidth": 0,
             "ticks": ""
            },
            "type": "choropleth"
           }
          ],
          "contour": [
           {
            "colorbar": {
             "outlinewidth": 0,
             "ticks": ""
            },
            "colorscale": [
             [
              0,
              "#0d0887"
             ],
             [
              0.1111111111111111,
              "#46039f"
             ],
             [
              0.2222222222222222,
              "#7201a8"
             ],
             [
              0.3333333333333333,
              "#9c179e"
             ],
             [
              0.4444444444444444,
              "#bd3786"
             ],
             [
              0.5555555555555556,
              "#d8576b"
             ],
             [
              0.6666666666666666,
              "#ed7953"
             ],
             [
              0.7777777777777778,
              "#fb9f3a"
             ],
             [
              0.8888888888888888,
              "#fdca26"
             ],
             [
              1,
              "#f0f921"
             ]
            ],
            "type": "contour"
           }
          ],
          "contourcarpet": [
           {
            "colorbar": {
             "outlinewidth": 0,
             "ticks": ""
            },
            "type": "contourcarpet"
           }
          ],
          "heatmap": [
           {
            "colorbar": {
             "outlinewidth": 0,
             "ticks": ""
            },
            "colorscale": [
             [
              0,
              "#0d0887"
             ],
             [
              0.1111111111111111,
              "#46039f"
             ],
             [
              0.2222222222222222,
              "#7201a8"
             ],
             [
              0.3333333333333333,
              "#9c179e"
             ],
             [
              0.4444444444444444,
              "#bd3786"
             ],
             [
              0.5555555555555556,
              "#d8576b"
             ],
             [
              0.6666666666666666,
              "#ed7953"
             ],
             [
              0.7777777777777778,
              "#fb9f3a"
             ],
             [
              0.8888888888888888,
              "#fdca26"
             ],
             [
              1,
              "#f0f921"
             ]
            ],
            "type": "heatmap"
           }
          ],
          "histogram": [
           {
            "marker": {
             "pattern": {
              "fillmode": "overlay",
              "size": 10,
              "solidity": 0.2
             }
            },
            "type": "histogram"
           }
          ],
          "histogram2d": [
           {
            "colorbar": {
             "outlinewidth": 0,
             "ticks": ""
            },
            "colorscale": [
             [
              0,
              "#0d0887"
             ],
             [
              0.1111111111111111,
              "#46039f"
             ],
             [
              0.2222222222222222,
              "#7201a8"
             ],
             [
              0.3333333333333333,
              "#9c179e"
             ],
             [
              0.4444444444444444,
              "#bd3786"
             ],
             [
              0.5555555555555556,
              "#d8576b"
             ],
             [
              0.6666666666666666,
              "#ed7953"
             ],
             [
              0.7777777777777778,
              "#fb9f3a"
             ],
             [
              0.8888888888888888,
              "#fdca26"
             ],
             [
              1,
              "#f0f921"
             ]
            ],
            "type": "histogram2d"
           }
          ],
          "histogram2dcontour": [
           {
            "colorbar": {
             "outlinewidth": 0,
             "ticks": ""
            },
            "colorscale": [
             [
              0,
              "#0d0887"
             ],
             [
              0.1111111111111111,
              "#46039f"
             ],
             [
              0.2222222222222222,
              "#7201a8"
             ],
             [
              0.3333333333333333,
              "#9c179e"
             ],
             [
              0.4444444444444444,
              "#bd3786"
             ],
             [
              0.5555555555555556,
              "#d8576b"
             ],
             [
              0.6666666666666666,
              "#ed7953"
             ],
             [
              0.7777777777777778,
              "#fb9f3a"
             ],
             [
              0.8888888888888888,
              "#fdca26"
             ],
             [
              1,
              "#f0f921"
             ]
            ],
            "type": "histogram2dcontour"
           }
          ],
          "mesh3d": [
           {
            "colorbar": {
             "outlinewidth": 0,
             "ticks": ""
            },
            "type": "mesh3d"
           }
          ],
          "parcoords": [
           {
            "line": {
             "colorbar": {
              "outlinewidth": 0,
              "ticks": ""
             }
            },
            "type": "parcoords"
           }
          ],
          "pie": [
           {
            "automargin": true,
            "type": "pie"
           }
          ],
          "scatter": [
           {
            "fillpattern": {
             "fillmode": "overlay",
             "size": 10,
             "solidity": 0.2
            },
            "type": "scatter"
           }
          ],
          "scatter3d": [
           {
            "line": {
             "colorbar": {
              "outlinewidth": 0,
              "ticks": ""
             }
            },
            "marker": {
             "colorbar": {
              "outlinewidth": 0,
              "ticks": ""
             }
            },
            "type": "scatter3d"
           }
          ],
          "scattercarpet": [
           {
            "marker": {
             "colorbar": {
              "outlinewidth": 0,
              "ticks": ""
             }
            },
            "type": "scattercarpet"
           }
          ],
          "scattergeo": [
           {
            "marker": {
             "colorbar": {
              "outlinewidth": 0,
              "ticks": ""
             }
            },
            "type": "scattergeo"
           }
          ],
          "scattergl": [
           {
            "marker": {
             "colorbar": {
              "outlinewidth": 0,
              "ticks": ""
             }
            },
            "type": "scattergl"
           }
          ],
          "scattermap": [
           {
            "marker": {
             "colorbar": {
              "outlinewidth": 0,
              "ticks": ""
             }
            },
            "type": "scattermap"
           }
          ],
          "scattermapbox": [
           {
            "marker": {
             "colorbar": {
              "outlinewidth": 0,
              "ticks": ""
             }
            },
            "type": "scattermapbox"
           }
          ],
          "scatterpolar": [
           {
            "marker": {
             "colorbar": {
              "outlinewidth": 0,
              "ticks": ""
             }
            },
            "type": "scatterpolar"
           }
          ],
          "scatterpolargl": [
           {
            "marker": {
             "colorbar": {
              "outlinewidth": 0,
              "ticks": ""
             }
            },
            "type": "scatterpolargl"
           }
          ],
          "scatterternary": [
           {
            "marker": {
             "colorbar": {
              "outlinewidth": 0,
              "ticks": ""
             }
            },
            "type": "scatterternary"
           }
          ],
          "surface": [
           {
            "colorbar": {
             "outlinewidth": 0,
             "ticks": ""
            },
            "colorscale": [
             [
              0,
              "#0d0887"
             ],
             [
              0.1111111111111111,
              "#46039f"
             ],
             [
              0.2222222222222222,
              "#7201a8"
             ],
             [
              0.3333333333333333,
              "#9c179e"
             ],
             [
              0.4444444444444444,
              "#bd3786"
             ],
             [
              0.5555555555555556,
              "#d8576b"
             ],
             [
              0.6666666666666666,
              "#ed7953"
             ],
             [
              0.7777777777777778,
              "#fb9f3a"
             ],
             [
              0.8888888888888888,
              "#fdca26"
             ],
             [
              1,
              "#f0f921"
             ]
            ],
            "type": "surface"
           }
          ],
          "table": [
           {
            "cells": {
             "fill": {
              "color": "#EBF0F8"
             },
             "line": {
              "color": "white"
             }
            },
            "header": {
             "fill": {
              "color": "#C8D4E3"
             },
             "line": {
              "color": "white"
             }
            },
            "type": "table"
           }
          ]
         },
         "layout": {
          "annotationdefaults": {
           "arrowcolor": "#2a3f5f",
           "arrowhead": 0,
           "arrowwidth": 1
          },
          "autotypenumbers": "strict",
          "coloraxis": {
           "colorbar": {
            "outlinewidth": 0,
            "ticks": ""
           }
          },
          "colorscale": {
           "diverging": [
            [
             0,
             "#8e0152"
            ],
            [
             0.1,
             "#c51b7d"
            ],
            [
             0.2,
             "#de77ae"
            ],
            [
             0.3,
             "#f1b6da"
            ],
            [
             0.4,
             "#fde0ef"
            ],
            [
             0.5,
             "#f7f7f7"
            ],
            [
             0.6,
             "#e6f5d0"
            ],
            [
             0.7,
             "#b8e186"
            ],
            [
             0.8,
             "#7fbc41"
            ],
            [
             0.9,
             "#4d9221"
            ],
            [
             1,
             "#276419"
            ]
           ],
           "sequential": [
            [
             0,
             "#0d0887"
            ],
            [
             0.1111111111111111,
             "#46039f"
            ],
            [
             0.2222222222222222,
             "#7201a8"
            ],
            [
             0.3333333333333333,
             "#9c179e"
            ],
            [
             0.4444444444444444,
             "#bd3786"
            ],
            [
             0.5555555555555556,
             "#d8576b"
            ],
            [
             0.6666666666666666,
             "#ed7953"
            ],
            [
             0.7777777777777778,
             "#fb9f3a"
            ],
            [
             0.8888888888888888,
             "#fdca26"
            ],
            [
             1,
             "#f0f921"
            ]
           ],
           "sequentialminus": [
            [
             0,
             "#0d0887"
            ],
            [
             0.1111111111111111,
             "#46039f"
            ],
            [
             0.2222222222222222,
             "#7201a8"
            ],
            [
             0.3333333333333333,
             "#9c179e"
            ],
            [
             0.4444444444444444,
             "#bd3786"
            ],
            [
             0.5555555555555556,
             "#d8576b"
            ],
            [
             0.6666666666666666,
             "#ed7953"
            ],
            [
             0.7777777777777778,
             "#fb9f3a"
            ],
            [
             0.8888888888888888,
             "#fdca26"
            ],
            [
             1,
             "#f0f921"
            ]
           ]
          },
          "colorway": [
           "#636efa",
           "#EF553B",
           "#00cc96",
           "#ab63fa",
           "#FFA15A",
           "#19d3f3",
           "#FF6692",
           "#B6E880",
           "#FF97FF",
           "#FECB52"
          ],
          "font": {
           "color": "#2a3f5f"
          },
          "geo": {
           "bgcolor": "white",
           "lakecolor": "white",
           "landcolor": "#E5ECF6",
           "showlakes": true,
           "showland": true,
           "subunitcolor": "white"
          },
          "hoverlabel": {
           "align": "left"
          },
          "hovermode": "closest",
          "mapbox": {
           "style": "light"
          },
          "paper_bgcolor": "white",
          "plot_bgcolor": "#E5ECF6",
          "polar": {
           "angularaxis": {
            "gridcolor": "white",
            "linecolor": "white",
            "ticks": ""
           },
           "bgcolor": "#E5ECF6",
           "radialaxis": {
            "gridcolor": "white",
            "linecolor": "white",
            "ticks": ""
           }
          },
          "scene": {
           "xaxis": {
            "backgroundcolor": "#E5ECF6",
            "gridcolor": "white",
            "gridwidth": 2,
            "linecolor": "white",
            "showbackground": true,
            "ticks": "",
            "zerolinecolor": "white"
           },
           "yaxis": {
            "backgroundcolor": "#E5ECF6",
            "gridcolor": "white",
            "gridwidth": 2,
            "linecolor": "white",
            "showbackground": true,
            "ticks": "",
            "zerolinecolor": "white"
           },
           "zaxis": {
            "backgroundcolor": "#E5ECF6",
            "gridcolor": "white",
            "gridwidth": 2,
            "linecolor": "white",
            "showbackground": true,
            "ticks": "",
            "zerolinecolor": "white"
           }
          },
          "shapedefaults": {
           "line": {
            "color": "#2a3f5f"
           }
          },
          "ternary": {
           "aaxis": {
            "gridcolor": "white",
            "linecolor": "white",
            "ticks": ""
           },
           "baxis": {
            "gridcolor": "white",
            "linecolor": "white",
            "ticks": ""
           },
           "bgcolor": "#E5ECF6",
           "caxis": {
            "gridcolor": "white",
            "linecolor": "white",
            "ticks": ""
           }
          },
          "title": {
           "x": 0.05
          },
          "xaxis": {
           "automargin": true,
           "gridcolor": "white",
           "linecolor": "white",
           "ticks": "",
           "title": {
            "standoff": 15
           },
           "zerolinecolor": "white",
           "zerolinewidth": 2
          },
          "yaxis": {
           "automargin": true,
           "gridcolor": "white",
           "linecolor": "white",
           "ticks": "",
           "title": {
            "standoff": 15
           },
           "zerolinecolor": "white",
           "zerolinewidth": 2
          }
         }
        },
        "title": {
         "text": "Perceived mental health good Percent Trend"
        },
        "xaxis": {
         "anchor": "y",
         "domain": [
          0,
          1
         ],
         "title": {
          "text": "period"
         }
        },
        "yaxis": {
         "anchor": "x",
         "domain": [
          0,
          1
         ],
         "title": {
          "text": "value"
         }
        }
       }
      }
     },
     "metadata": {},
     "output_type": "display_data"
    }
   ],
   "source": [
    "# Plot for Calgary\n",
    "def plot_indicator(indicator, char='percent', regions=['Calgary']): #Change regions=[...] to add all the regions we want to plot to compare \n",
    "    dfs = []\n",
    "    for reg in regions:\n",
    "        col = f'{indicator}_{char}'\n",
    "        if reg in data_dict and col in data_dict[reg].columns:\n",
    "            df = data_dict[reg][col].reset_index().rename(columns={col: 'value'})\n",
    "            df['region'] = reg\n",
    "            dfs.append(df)\n",
    "    if dfs:\n",
    "        combined = pd.concat(dfs)\n",
    "        fig = px.line(combined, x='period', y='value', color='region', title=f'{indicator.capitalize()} {char.capitalize()} Trend')\n",
    "        fig.show()\n",
    "\n",
    "# # Example plot\n",
    "plot_indicator('perceived mental health good')\n"
   ]
  },
  {
   "cell_type": "code",
   "execution_count": 5,
   "id": "de55f8e7",
   "metadata": {},
   "outputs": [
    {
     "name": "stdout",
     "output_type": "stream",
     "text": [
      "Summary for perceived mental health good:\n",
      "                   region  min min_period  max max_period   average                      trend\n",
      "                  Alberta 55.8  2021/2022 75.0  2007/2008 70.460000     downward (significant)\n",
      "                    Aspen 66.7       2005 72.4  2009/2010 69.275000   upward (not significant)\n",
      "         British Columbia 53.1  2021/2022 71.4  2007/2008 67.130000     downward (significant)\n",
      "                  Calgary 57.7  2021/2022 77.8  2007/2008 72.410000     downward (significant)\n",
      "                   Canada 56.9  2021/2022 74.6  2007/2008 70.020000     downward (significant)\n",
      "                  Capital 72.1       2005 74.2  2007/2008 73.075000   upward (not significant)\n",
      "                  Chinook 69.1       2003 74.5  2009/2010 72.725000   upward (not significant)\n",
      "           David Thompson 69.4       2003 72.7  2007/2008 71.250000   upward (not significant)\n",
      "             East Central 68.9  2009/2010 75.1  2007/2008 71.825000 downward (not significant)\n",
      "                 Manitoba 55.3  2021/2022 72.9       2003 68.070000     downward (significant)\n",
      "            New Brunswick 54.6  2021/2022 70.8  2007/2008 65.550000     downward (significant)\n",
      "Newfoundland and Labrador 58.3  2021/2022 77.0  2007/2008 71.510000     downward (significant)\n",
      "          Northern Lights 70.6       2003 77.4  2009/2010 73.775000   upward (not significant)\n",
      "    Northwest Territories 42.3  2021/2022 72.4       2005 62.130000     downward (significant)\n",
      "                  Nunavut 46.5  2021/2022 68.4  2009/2010 57.420000     downward (significant)\n",
      "                 Palliser 69.1       2003 74.6  2009/2010 71.525000       upward (significant)\n",
      "            Peace Country 67.2       2003 73.2  2009/2010 70.750000       upward (significant)\n",
      "     Prince Edward Island 55.9  2021/2022 75.3       2005 70.140000     downward (significant)\n",
      "                   Quebec 65.3  2021/2022 77.2  2007/2008 73.570000     downward (significant)\n",
      "             Saskatchewan 52.6  2021/2022 71.9  2007/2008 67.560000     downward (significant)\n",
      "                    Yukon 47.2  2021/2022 73.7       2005 67.100000     downward (significant)\n",
      "             Central Zone 70.3  2011/2012 73.4  2007/2008 71.550000 downward (not significant)\n",
      "               North Zone 69.1  2013/2014 73.7  2009/2010 70.775000 downward (not significant)\n",
      "              Nova Scotia 54.6  2021/2022 73.6  2009/2010 67.500000     downward (significant)\n",
      "               South Zone 66.6  2013/2014 74.5  2009/2010 70.925000 downward (not significant)\n",
      "                 Edmonton 54.2  2021/2022 73.2  2015/2016 65.575000 downward (not significant)\n",
      "      Large Urban Alberta 56.1  2021/2022 73.8  2015/2016 66.550000     downward (significant)\n",
      "               Lethbridge 50.6  2021/2022 69.5  2017/2018 60.766667 downward (not significant)\n",
      "           Medium Alberta 53.6  2021/2022 72.5  2015/2016 64.125000     downward (significant)\n",
      "                  Ontario 54.6  2021/2022 71.1  2015/2016 64.875000 downward (not significant)\n",
      "            Rural Alberta 59.5  2021/2022 76.0  2015/2016 67.300000     downward (significant)\n",
      "            Small Alberta 53.3  2021/2022 71.9  2015/2016 65.800000 downward (not significant)\n",
      "\n",
      "Calgary Comparisons:\n",
      "Calgary average (72.4%) is higher than Alberta (70.5%).\n",
      "Trend in Calgary: downward (significant).\n",
      "Calgary average (72.4%) is higher than Aspen (69.3%).\n",
      "Trend in Calgary: downward (significant).\n",
      "Calgary average (72.4%) is higher than British Columbia (67.1%).\n",
      "Trend in Calgary: downward (significant).\n",
      "Calgary average (72.4%) is higher than Canada (70.0%).\n",
      "Trend in Calgary: downward (significant).\n",
      "Calgary average (72.4%) is lower than Capital (73.1%).\n",
      "Trend in Calgary: downward (significant).\n",
      "Calgary average (72.4%) is lower than Chinook (72.7%).\n",
      "Trend in Calgary: downward (significant).\n",
      "Calgary average (72.4%) is higher than David Thompson (71.2%).\n",
      "Trend in Calgary: downward (significant).\n",
      "Calgary average (72.4%) is higher than East Central (71.8%).\n",
      "Trend in Calgary: downward (significant).\n",
      "Calgary average (72.4%) is higher than Manitoba (68.1%).\n",
      "Trend in Calgary: downward (significant).\n",
      "Calgary average (72.4%) is higher than New Brunswick (65.6%).\n",
      "Trend in Calgary: downward (significant).\n",
      "Calgary average (72.4%) is higher than Newfoundland and Labrador (71.5%).\n",
      "Trend in Calgary: downward (significant).\n",
      "Calgary average (72.4%) is lower than Northern Lights (73.8%).\n",
      "Trend in Calgary: downward (significant).\n",
      "Calgary average (72.4%) is higher than Northwest Territories (62.1%).\n",
      "Trend in Calgary: downward (significant).\n",
      "Calgary average (72.4%) is higher than Nunavut (57.4%).\n",
      "Trend in Calgary: downward (significant).\n",
      "Calgary average (72.4%) is higher than Palliser (71.5%).\n",
      "Trend in Calgary: downward (significant).\n",
      "Calgary average (72.4%) is higher than Peace Country (70.8%).\n",
      "Trend in Calgary: downward (significant).\n",
      "Calgary average (72.4%) is higher than Prince Edward Island (70.1%).\n",
      "Trend in Calgary: downward (significant).\n",
      "Calgary average (72.4%) is lower than Quebec (73.6%).\n",
      "Trend in Calgary: downward (significant).\n",
      "Calgary average (72.4%) is higher than Saskatchewan (67.6%).\n",
      "Trend in Calgary: downward (significant).\n",
      "Calgary average (72.4%) is higher than Yukon (67.1%).\n",
      "Trend in Calgary: downward (significant).\n",
      "Calgary average (72.4%) is higher than Central Zone (71.6%).\n",
      "Trend in Calgary: downward (significant).\n",
      "Calgary average (72.4%) is higher than North Zone (70.8%).\n",
      "Trend in Calgary: downward (significant).\n",
      "Calgary average (72.4%) is higher than Nova Scotia (67.5%).\n",
      "Trend in Calgary: downward (significant).\n",
      "Calgary average (72.4%) is higher than South Zone (70.9%).\n",
      "Trend in Calgary: downward (significant).\n",
      "Calgary average (72.4%) is higher than Edmonton (65.6%).\n",
      "Trend in Calgary: downward (significant).\n",
      "Calgary average (72.4%) is higher than Large Urban Alberta (66.5%).\n",
      "Trend in Calgary: downward (significant).\n",
      "Calgary average (72.4%) is higher than Lethbridge (60.8%).\n",
      "Trend in Calgary: downward (significant).\n",
      "Calgary average (72.4%) is higher than Medium Alberta (64.1%).\n",
      "Trend in Calgary: downward (significant).\n",
      "Calgary average (72.4%) is higher than Ontario (64.9%).\n",
      "Trend in Calgary: downward (significant).\n",
      "Calgary average (72.4%) is higher than Rural Alberta (67.3%).\n",
      "Trend in Calgary: downward (significant).\n",
      "Calgary average (72.4%) is higher than Small Alberta (65.8%).\n",
      "Trend in Calgary: downward (significant).\n",
      "\n",
      "\n",
      "Summary for perceived mental health poor:\n",
      "                   region  min min_period  max max_period   average                    trend\n",
      "                  Alberta  4.7  2007/2008 14.2  2021/2022  7.300000     upward (significant)\n",
      "                    Aspen  4.7  2007/2008  8.5  2009/2010  6.600000     upward (significant)\n",
      "         British Columbia  5.9  2009/2010 16.0  2021/2022  8.562500     upward (significant)\n",
      "                  Calgary  4.1  2009/2010 13.1  2021/2022  6.675000     upward (significant)\n",
      "                   Canada  4.9  2007/2008 13.1  2021/2022  7.237500     upward (significant)\n",
      "                  Capital  4.7  2007/2008  4.9  2009/2010  4.800000     upward (significant)\n",
      "                  Chinook  5.7  2009/2010  6.8  2007/2008  6.250000   downward (significant)\n",
      "           David Thompson  4.7  2009/2010  4.9  2007/2008  4.800000   downward (significant)\n",
      "             East Central  4.0  2007/2008  4.5  2009/2010  4.250000     upward (significant)\n",
      "                 Manitoba  5.2  2007/2008 13.2  2021/2022  7.600000     upward (significant)\n",
      "            New Brunswick  5.3  2007/2008 14.4  2021/2022  8.225000     upward (significant)\n",
      "Newfoundland and Labrador  3.7  2009/2010 13.4  2021/2022  6.387500     upward (significant)\n",
      "          Northern Lights  3.7  2009/2010  5.4  2007/2008  4.550000   downward (significant)\n",
      "    Northwest Territories  4.3  2007/2008 18.5  2021/2022  9.200000     upward (significant)\n",
      "                  Nunavut  4.5  2007/2008 17.8  2021/2022  9.042857     upward (significant)\n",
      "                 Palliser  3.6  2009/2010  3.8  2007/2008  3.700000   downward (significant)\n",
      "            Peace Country  5.0  2007/2008  5.2  2009/2010  5.100000     upward (significant)\n",
      "     Prince Edward Island  4.4  2007/2008 15.0  2021/2022  7.487500     upward (significant)\n",
      "                   Quebec  3.4  2007/2008  8.3  2021/2022  4.975000     upward (significant)\n",
      "             Saskatchewan  5.1  2007/2008 15.1  2021/2022  7.825000     upward (significant)\n",
      "                    Yukon  5.3  2007/2008 15.9  2021/2022  8.250000     upward (significant)\n",
      "             Central Zone  4.6  2009/2010  6.4  2013/2014  5.350000 upward (not significant)\n",
      "               North Zone  4.6  2011/2012  6.7  2013/2014  5.625000 upward (not significant)\n",
      "              Nova Scotia  5.5  2007/2008 14.6  2021/2022  8.812500     upward (significant)\n",
      "               South Zone  4.8  2009/2010  7.5  2013/2014  5.850000 upward (not significant)\n",
      "                 Edmonton  6.5  2015/2016 15.2  2021/2022 10.175000     upward (significant)\n",
      "      Large Urban Alberta  7.2  2015/2016 14.2  2021/2022  9.475000 upward (not significant)\n",
      "               Lethbridge  7.4  2017/2018 15.0  2021/2022 11.233333     upward (significant)\n",
      "           Medium Alberta  7.5  2015/2016 15.7  2021/2022 11.075000     upward (significant)\n",
      "                  Ontario  6.9  2015/2016 14.2  2021/2022  9.700000     upward (significant)\n",
      "            Rural Alberta  4.2  2015/2016 11.9  2021/2022  8.125000     upward (significant)\n",
      "            Small Alberta  6.0  2015/2016 15.1  2021/2022  9.525000     upward (significant)\n",
      "\n",
      "Calgary Comparisons:\n",
      "Calgary average (6.7%) is lower than Alberta (7.3%).\n",
      "Trend in Calgary: upward (significant).\n",
      "Calgary average (6.7%) is higher than Aspen (6.6%).\n",
      "Trend in Calgary: upward (significant).\n",
      "Calgary average (6.7%) is lower than British Columbia (8.6%).\n",
      "Trend in Calgary: upward (significant).\n",
      "Calgary average (6.7%) is lower than Canada (7.2%).\n",
      "Trend in Calgary: upward (significant).\n",
      "Calgary average (6.7%) is higher than Capital (4.8%).\n",
      "Trend in Calgary: upward (significant).\n",
      "Calgary average (6.7%) is higher than Chinook (6.2%).\n",
      "Trend in Calgary: upward (significant).\n",
      "Calgary average (6.7%) is higher than David Thompson (4.8%).\n",
      "Trend in Calgary: upward (significant).\n",
      "Calgary average (6.7%) is higher than East Central (4.2%).\n",
      "Trend in Calgary: upward (significant).\n",
      "Calgary average (6.7%) is lower than Manitoba (7.6%).\n",
      "Trend in Calgary: upward (significant).\n",
      "Calgary average (6.7%) is lower than New Brunswick (8.2%).\n",
      "Trend in Calgary: upward (significant).\n",
      "Calgary average (6.7%) is higher than Newfoundland and Labrador (6.4%).\n",
      "Trend in Calgary: upward (significant).\n",
      "Calgary average (6.7%) is higher than Northern Lights (4.6%).\n",
      "Trend in Calgary: upward (significant).\n",
      "Calgary average (6.7%) is lower than Northwest Territories (9.2%).\n",
      "Trend in Calgary: upward (significant).\n",
      "Calgary average (6.7%) is lower than Nunavut (9.0%).\n",
      "Trend in Calgary: upward (significant).\n",
      "Calgary average (6.7%) is higher than Palliser (3.7%).\n",
      "Trend in Calgary: upward (significant).\n",
      "Calgary average (6.7%) is higher than Peace Country (5.1%).\n",
      "Trend in Calgary: upward (significant).\n",
      "Calgary average (6.7%) is lower than Prince Edward Island (7.5%).\n",
      "Trend in Calgary: upward (significant).\n",
      "Calgary average (6.7%) is higher than Quebec (5.0%).\n",
      "Trend in Calgary: upward (significant).\n",
      "Calgary average (6.7%) is lower than Saskatchewan (7.8%).\n",
      "Trend in Calgary: upward (significant).\n",
      "Calgary average (6.7%) is lower than Yukon (8.2%).\n",
      "Trend in Calgary: upward (significant).\n",
      "Calgary average (6.7%) is higher than Central Zone (5.3%).\n",
      "Trend in Calgary: upward (significant).\n",
      "Calgary average (6.7%) is higher than North Zone (5.6%).\n",
      "Trend in Calgary: upward (significant).\n",
      "Calgary average (6.7%) is lower than Nova Scotia (8.8%).\n",
      "Trend in Calgary: upward (significant).\n",
      "Calgary average (6.7%) is higher than South Zone (5.8%).\n",
      "Trend in Calgary: upward (significant).\n",
      "Calgary average (6.7%) is lower than Edmonton (10.2%).\n",
      "Trend in Calgary: upward (significant).\n",
      "Calgary average (6.7%) is lower than Large Urban Alberta (9.5%).\n",
      "Trend in Calgary: upward (significant).\n",
      "Calgary average (6.7%) is lower than Lethbridge (11.2%).\n",
      "Trend in Calgary: upward (significant).\n",
      "Calgary average (6.7%) is lower than Medium Alberta (11.1%).\n",
      "Trend in Calgary: upward (significant).\n",
      "Calgary average (6.7%) is lower than Ontario (9.7%).\n",
      "Trend in Calgary: upward (significant).\n",
      "Calgary average (6.7%) is lower than Rural Alberta (8.1%).\n",
      "Trend in Calgary: upward (significant).\n",
      "Calgary average (6.7%) is lower than Small Alberta (9.5%).\n",
      "Trend in Calgary: upward (significant).\n",
      "\n",
      "\n",
      "Summary for life satisfaction:\n",
      "                   region  min min_period  max max_period   average                      trend\n",
      "                  Alberta 89.6  2021/2022 93.3  2015/2016 92.150000 downward (not significant)\n",
      "                    Aspen 87.9  2009/2010 92.9  2007/2008 90.400000     downward (significant)\n",
      "         British Columbia 88.5  2021/2022 92.8  2019/2020 91.337500 downward (not significant)\n",
      "                  Calgary 90.5  2021/2022 94.1  2011/2012 92.625000 downward (not significant)\n",
      "                   Canada 89.7  2021/2022 93.3  2019/2020 92.125000 downward (not significant)\n",
      "                  Capital 90.0  2009/2010 92.3  2007/2008 91.150000     downward (significant)\n",
      "                  Chinook 90.7  2009/2010 93.6  2007/2008 92.150000     downward (significant)\n",
      "           David Thompson 91.5  2009/2010 93.5  2007/2008 92.500000     downward (significant)\n",
      "             East Central 92.8  2009/2010 94.5  2007/2008 93.650000     downward (significant)\n",
      "                 Manitoba 89.1  2021/2022 93.2  2017/2018 91.625000 downward (not significant)\n",
      "            New Brunswick 88.8  2021/2022 93.4  2007/2008 91.875000     downward (significant)\n",
      "Newfoundland and Labrador 89.4  2021/2022 93.6  2007/2008 92.262500 downward (not significant)\n",
      "          Northern Lights 91.6  2007/2008 93.5  2009/2010 92.550000       upward (significant)\n",
      "    Northwest Territories 85.4  2021/2022 93.3  2007/2008 90.287500 downward (not significant)\n",
      "                  Nunavut 85.5  2017/2018 92.5  2007/2008 87.712500 downward (not significant)\n",
      "                 Palliser 92.6  2007/2008 94.1  2009/2010 93.350000       upward (significant)\n",
      "            Peace Country 91.6  2009/2010 93.2  2007/2008 92.400000     downward (significant)\n",
      "     Prince Edward Island 88.5  2021/2022 95.3  2019/2020 93.400000 downward (not significant)\n",
      "                   Quebec 92.5  2021/2022 95.1  2019/2020 93.650000   upward (not significant)\n",
      "             Saskatchewan 89.4  2021/2022 94.6  2019/2020 92.800000 downward (not significant)\n",
      "                    Yukon 90.1  2007/2008 94.3  2019/2020 92.287500   upward (not significant)\n",
      "             Central Zone 91.7  2011/2012 93.8  2007/2008 92.675000 downward (not significant)\n",
      "               North Zone 90.4  2009/2010 92.8  2007/2008 91.975000   upward (not significant)\n",
      "              Nova Scotia 88.8  2021/2022 92.9  2011/2012 91.500000 downward (not significant)\n",
      "               South Zone 92.1  2009/2010 94.3  2011/2012 93.275000   upward (not significant)\n",
      "                 Edmonton 88.6  2021/2022 93.4  2015/2016 91.975000 downward (not significant)\n",
      "      Large Urban Alberta 89.4  2021/2022 93.2  2015/2016 92.150000 downward (not significant)\n",
      "               Lethbridge 88.6  2021/2022 94.0  2017/2018 91.366667     downward (significant)\n",
      "           Medium Alberta 88.7  2021/2022 93.1  2015/2016 91.575000 downward (not significant)\n",
      "                  Ontario 88.6  2021/2022 93.2  2017/2018 91.775000 downward (not significant)\n",
      "            Rural Alberta 90.8  2021/2022 94.9  2015/2016 92.950000 downward (not significant)\n",
      "            Small Alberta 90.0  2021/2022 93.5  2019/2020 92.375000 downward (not significant)\n",
      "\n",
      "Calgary Comparisons:\n",
      "Calgary average (92.6%) is higher than Alberta (92.1%).\n",
      "Trend in Calgary: downward (not significant).\n",
      "Calgary average (92.6%) is higher than Aspen (90.4%).\n",
      "Trend in Calgary: downward (not significant).\n",
      "Calgary average (92.6%) is higher than British Columbia (91.3%).\n",
      "Trend in Calgary: downward (not significant).\n",
      "Calgary average (92.6%) is higher than Canada (92.1%).\n",
      "Trend in Calgary: downward (not significant).\n",
      "Calgary average (92.6%) is higher than Capital (91.2%).\n",
      "Trend in Calgary: downward (not significant).\n",
      "Calgary average (92.6%) is higher than Chinook (92.2%).\n",
      "Trend in Calgary: downward (not significant).\n",
      "Calgary average (92.6%) is higher than David Thompson (92.5%).\n",
      "Trend in Calgary: downward (not significant).\n",
      "Calgary average (92.6%) is lower than East Central (93.7%).\n",
      "Trend in Calgary: downward (not significant).\n",
      "Calgary average (92.6%) is higher than Manitoba (91.6%).\n",
      "Trend in Calgary: downward (not significant).\n",
      "Calgary average (92.6%) is higher than New Brunswick (91.9%).\n",
      "Trend in Calgary: downward (not significant).\n",
      "Calgary average (92.6%) is higher than Newfoundland and Labrador (92.3%).\n",
      "Trend in Calgary: downward (not significant).\n",
      "Calgary average (92.6%) is higher than Northern Lights (92.5%).\n",
      "Trend in Calgary: downward (not significant).\n",
      "Calgary average (92.6%) is higher than Northwest Territories (90.3%).\n",
      "Trend in Calgary: downward (not significant).\n",
      "Calgary average (92.6%) is higher than Nunavut (87.7%).\n",
      "Trend in Calgary: downward (not significant).\n",
      "Calgary average (92.6%) is lower than Palliser (93.3%).\n",
      "Trend in Calgary: downward (not significant).\n",
      "Calgary average (92.6%) is higher than Peace Country (92.4%).\n",
      "Trend in Calgary: downward (not significant).\n",
      "Calgary average (92.6%) is lower than Prince Edward Island (93.4%).\n",
      "Trend in Calgary: downward (not significant).\n",
      "Calgary average (92.6%) is lower than Quebec (93.6%).\n",
      "Trend in Calgary: downward (not significant).\n",
      "Calgary average (92.6%) is lower than Saskatchewan (92.8%).\n",
      "Trend in Calgary: downward (not significant).\n",
      "Calgary average (92.6%) is higher than Yukon (92.3%).\n",
      "Trend in Calgary: downward (not significant).\n",
      "Calgary average (92.6%) is lower than Central Zone (92.7%).\n",
      "Trend in Calgary: downward (not significant).\n",
      "Calgary average (92.6%) is higher than North Zone (92.0%).\n",
      "Trend in Calgary: downward (not significant).\n",
      "Calgary average (92.6%) is higher than Nova Scotia (91.5%).\n",
      "Trend in Calgary: downward (not significant).\n",
      "Calgary average (92.6%) is lower than South Zone (93.3%).\n",
      "Trend in Calgary: downward (not significant).\n",
      "Calgary average (92.6%) is higher than Edmonton (92.0%).\n",
      "Trend in Calgary: downward (not significant).\n",
      "Calgary average (92.6%) is higher than Large Urban Alberta (92.2%).\n",
      "Trend in Calgary: downward (not significant).\n",
      "Calgary average (92.6%) is higher than Lethbridge (91.4%).\n",
      "Trend in Calgary: downward (not significant).\n",
      "Calgary average (92.6%) is higher than Medium Alberta (91.6%).\n",
      "Trend in Calgary: downward (not significant).\n",
      "Calgary average (92.6%) is higher than Ontario (91.8%).\n",
      "Trend in Calgary: downward (not significant).\n",
      "Calgary average (92.6%) is lower than Rural Alberta (93.0%).\n",
      "Trend in Calgary: downward (not significant).\n",
      "Calgary average (92.6%) is higher than Small Alberta (92.4%).\n",
      "Trend in Calgary: downward (not significant).\n",
      "\n",
      "\n",
      "Summary for life stress:\n",
      "                   region  min min_period  max max_period   average                      trend\n",
      "                  Alberta 19.9  2017/2018 23.3       2003 21.383333     downward (significant)\n",
      "                    Aspen 22.1       2005 24.6       2003 23.350000     downward (significant)\n",
      "         British Columbia 19.7  2015/2016 22.7       2005 21.133333 downward (not significant)\n",
      "                  Calgary 20.0  2019/2020 24.7       2005 21.983333     downward (significant)\n",
      "                   Canada 20.8  2019/2020 24.4       2003 22.066667     downward (significant)\n",
      "                  Capital 20.8       2005 23.5       2003 22.150000     downward (significant)\n",
      "                  Chinook 20.2       2003 20.9       2005 20.550000       upward (significant)\n",
      "           David Thompson 20.3       2005 23.0       2003 21.650000     downward (significant)\n",
      "             East Central 22.6       2005 24.3       2003 23.450000     downward (significant)\n",
      "                 Manitoba 18.8  2017/2018 20.3       2003 19.750000 downward (not significant)\n",
      "            New Brunswick 18.7  2015/2016 24.4       2003 20.066667 downward (not significant)\n",
      "Newfoundland and Labrador 13.3  2015/2016 16.6  2021/2022 14.733333 downward (not significant)\n",
      "          Northern Lights 13.9       2005 22.6       2003 18.250000     downward (significant)\n",
      "    Northwest Territories 17.9  2015/2016 20.8       2003 19.250000 downward (not significant)\n",
      "                  Nunavut 15.4  2019/2020 19.8       2005 17.166667 downward (not significant)\n",
      "                 Palliser 18.5       2005 22.4       2003 20.450000     downward (significant)\n",
      "            Peace Country 25.9       2003 26.4       2005 26.150000       upward (significant)\n",
      "     Prince Edward Island 14.3  2015/2016 19.5  2021/2022 16.883333   upward (not significant)\n",
      "                   Quebec 21.0  2021/2022 28.7       2003 24.300000     downward (significant)\n",
      "             Saskatchewan 17.0  2019/2020 21.2       2005 19.150000 downward (not significant)\n",
      "                    Yukon 16.5  2019/2020 24.7  2021/2022 20.300000   upward (not significant)\n",
      "              Nova Scotia 18.3  2017/2018 20.3  2021/2022 18.975000   upward (not significant)\n",
      "                 Edmonton 19.7  2017/2018 21.8  2021/2022 20.750000   upward (not significant)\n",
      "      Large Urban Alberta 19.7  2019/2020 22.2  2021/2022 20.900000   upward (not significant)\n",
      "               Lethbridge 17.3  2017/2018 22.4  2019/2020 20.566667   upward (not significant)\n",
      "           Medium Alberta 20.4  2021/2022 22.8  2015/2016 21.525000 downward (not significant)\n",
      "                  Ontario 20.9  2019/2020 22.0  2015/2016 21.525000 downward (not significant)\n",
      "            Rural Alberta 18.0  2017/2018 20.2  2021/2022 18.800000   upward (not significant)\n",
      "            Small Alberta 19.8  2017/2018 21.8  2019/2020 20.575000   upward (not significant)\n",
      "\n",
      "Calgary Comparisons:\n",
      "Calgary average (22.0%) is higher than Alberta (21.4%).\n",
      "Trend in Calgary: downward (significant).\n",
      "Calgary average (22.0%) is lower than Aspen (23.4%).\n",
      "Trend in Calgary: downward (significant).\n",
      "Calgary average (22.0%) is higher than British Columbia (21.1%).\n",
      "Trend in Calgary: downward (significant).\n",
      "Calgary average (22.0%) is lower than Canada (22.1%).\n",
      "Trend in Calgary: downward (significant).\n",
      "Calgary average (22.0%) is lower than Capital (22.1%).\n",
      "Trend in Calgary: downward (significant).\n",
      "Calgary average (22.0%) is higher than Chinook (20.5%).\n",
      "Trend in Calgary: downward (significant).\n",
      "Calgary average (22.0%) is higher than David Thompson (21.6%).\n",
      "Trend in Calgary: downward (significant).\n",
      "Calgary average (22.0%) is lower than East Central (23.5%).\n",
      "Trend in Calgary: downward (significant).\n",
      "Calgary average (22.0%) is higher than Manitoba (19.8%).\n",
      "Trend in Calgary: downward (significant).\n",
      "Calgary average (22.0%) is higher than New Brunswick (20.1%).\n",
      "Trend in Calgary: downward (significant).\n",
      "Calgary average (22.0%) is higher than Newfoundland and Labrador (14.7%).\n",
      "Trend in Calgary: downward (significant).\n",
      "Calgary average (22.0%) is higher than Northern Lights (18.2%).\n",
      "Trend in Calgary: downward (significant).\n",
      "Calgary average (22.0%) is higher than Northwest Territories (19.2%).\n",
      "Trend in Calgary: downward (significant).\n",
      "Calgary average (22.0%) is higher than Nunavut (17.2%).\n",
      "Trend in Calgary: downward (significant).\n",
      "Calgary average (22.0%) is higher than Palliser (20.4%).\n",
      "Trend in Calgary: downward (significant).\n",
      "Calgary average (22.0%) is lower than Peace Country (26.1%).\n",
      "Trend in Calgary: downward (significant).\n",
      "Calgary average (22.0%) is higher than Prince Edward Island (16.9%).\n",
      "Trend in Calgary: downward (significant).\n",
      "Calgary average (22.0%) is lower than Quebec (24.3%).\n",
      "Trend in Calgary: downward (significant).\n",
      "Calgary average (22.0%) is higher than Saskatchewan (19.2%).\n",
      "Trend in Calgary: downward (significant).\n",
      "Calgary average (22.0%) is higher than Yukon (20.3%).\n",
      "Trend in Calgary: downward (significant).\n",
      "Calgary average (22.0%) is higher than Nova Scotia (19.0%).\n",
      "Trend in Calgary: downward (significant).\n",
      "Calgary average (22.0%) is higher than Edmonton (20.8%).\n",
      "Trend in Calgary: downward (significant).\n",
      "Calgary average (22.0%) is higher than Large Urban Alberta (20.9%).\n",
      "Trend in Calgary: downward (significant).\n",
      "Calgary average (22.0%) is higher than Lethbridge (20.6%).\n",
      "Trend in Calgary: downward (significant).\n",
      "Calgary average (22.0%) is higher than Medium Alberta (21.5%).\n",
      "Trend in Calgary: downward (significant).\n",
      "Calgary average (22.0%) is higher than Ontario (21.5%).\n",
      "Trend in Calgary: downward (significant).\n",
      "Calgary average (22.0%) is higher than Rural Alberta (18.8%).\n",
      "Trend in Calgary: downward (significant).\n",
      "Calgary average (22.0%) is higher than Small Alberta (20.6%).\n",
      "Trend in Calgary: downward (significant).\n",
      "\n",
      "\n",
      "Summary for sense of belonging:\n",
      "                   region  min min_period  max max_period   average                      trend\n",
      "                  Alberta 61.6  2007/2008 69.6  2019/2020 65.450000       upward (significant)\n",
      "                    Aspen 66.3       2005 72.8  2009/2010 68.950000   upward (not significant)\n",
      "         British Columbia 64.9       2003 71.6  2015/2016 68.900000       upward (significant)\n",
      "                  Calgary 57.3  2007/2008 68.4  2019/2020 63.120000       upward (significant)\n",
      "                   Canada 61.6       2003 70.0  2019/2020 66.000000       upward (significant)\n",
      "                  Capital 59.0  2007/2008 63.1  2009/2010 60.375000   upward (not significant)\n",
      "                  Chinook 68.3  2009/2010 72.8  2007/2008 71.275000 downward (not significant)\n",
      "           David Thompson 66.1       2003 69.7  2007/2008 68.025000   upward (not significant)\n",
      "             East Central 69.6       2003 74.7  2007/2008 72.450000   upward (not significant)\n",
      "                 Manitoba 65.9       2005 73.6  2017/2018 69.240000       upward (significant)\n",
      "            New Brunswick 69.2       2003 76.0  2017/2018 71.820000       upward (significant)\n",
      "Newfoundland and Labrador 76.9       2005 80.3  2007/2008 78.330000   upward (not significant)\n",
      "          Northern Lights 58.0  2009/2010 69.6       2003 63.475000     downward (significant)\n",
      "    Northwest Territories 72.3       2005 80.4  2017/2018 78.080000   upward (not significant)\n",
      "                  Nunavut 78.2       2003 86.6  2009/2010 83.440000   upward (not significant)\n",
      "                 Palliser 69.4       2005 72.9  2007/2008 70.725000   upward (not significant)\n",
      "            Peace Country 64.3  2007/2008 70.2       2005 68.575000 downward (not significant)\n",
      "     Prince Edward Island 70.5       2003 76.3  2019/2020 73.850000   upward (not significant)\n",
      "                   Quebec 53.0       2005 64.4  2019/2020 58.320000       upward (significant)\n",
      "             Saskatchewan 69.9       2003 75.1  2019/2020 72.480000       upward (significant)\n",
      "                    Yukon 69.3       2005 84.2  2019/2020 76.270000       upward (significant)\n",
      "             Central Zone 68.5  2009/2010 71.1  2007/2008 69.475000 downward (not significant)\n",
      "               North Zone 65.6  2007/2008 69.8  2011/2012 67.800000   upward (not significant)\n",
      "              Nova Scotia 71.2  2011/2012 76.3  2019/2020 72.950000   upward (not significant)\n",
      "               South Zone 69.2  2009/2010 73.1  2013/2014 71.975000   upward (not significant)\n",
      "                 Edmonton 62.2  2021/2022 68.5  2015/2016 66.175000 downward (not significant)\n",
      "      Large Urban Alberta 64.2  2021/2022 68.1  2015/2016 66.775000 downward (not significant)\n",
      "               Lethbridge 65.4  2021/2022 73.5  2019/2020 70.633333 downward (not significant)\n",
      "           Medium Alberta 66.5  2021/2022 70.0  2015/2016 68.300000 downward (not significant)\n",
      "                  Ontario 67.4  2021/2022 71.3  2019/2020 70.100000 downward (not significant)\n",
      "            Rural Alberta 70.8  2017/2018 75.3  2019/2020 73.025000 downward (not significant)\n",
      "            Small Alberta 70.0  2021/2022 75.1  2019/2020 72.500000 downward (not significant)\n",
      "\n",
      "Calgary Comparisons:\n",
      "Calgary average (63.1%) is lower than Alberta (65.5%).\n",
      "Trend in Calgary: upward (significant).\n",
      "Calgary average (63.1%) is lower than Aspen (69.0%).\n",
      "Trend in Calgary: upward (significant).\n",
      "Calgary average (63.1%) is lower than British Columbia (68.9%).\n",
      "Trend in Calgary: upward (significant).\n",
      "Calgary average (63.1%) is lower than Canada (66.0%).\n",
      "Trend in Calgary: upward (significant).\n",
      "Calgary average (63.1%) is higher than Capital (60.4%).\n",
      "Trend in Calgary: upward (significant).\n",
      "Calgary average (63.1%) is lower than Chinook (71.3%).\n",
      "Trend in Calgary: upward (significant).\n",
      "Calgary average (63.1%) is lower than David Thompson (68.0%).\n",
      "Trend in Calgary: upward (significant).\n",
      "Calgary average (63.1%) is lower than East Central (72.4%).\n",
      "Trend in Calgary: upward (significant).\n",
      "Calgary average (63.1%) is lower than Manitoba (69.2%).\n",
      "Trend in Calgary: upward (significant).\n",
      "Calgary average (63.1%) is lower than New Brunswick (71.8%).\n",
      "Trend in Calgary: upward (significant).\n",
      "Calgary average (63.1%) is lower than Newfoundland and Labrador (78.3%).\n",
      "Trend in Calgary: upward (significant).\n",
      "Calgary average (63.1%) is lower than Northern Lights (63.5%).\n",
      "Trend in Calgary: upward (significant).\n",
      "Calgary average (63.1%) is lower than Northwest Territories (78.1%).\n",
      "Trend in Calgary: upward (significant).\n",
      "Calgary average (63.1%) is lower than Nunavut (83.4%).\n",
      "Trend in Calgary: upward (significant).\n",
      "Calgary average (63.1%) is lower than Palliser (70.7%).\n",
      "Trend in Calgary: upward (significant).\n",
      "Calgary average (63.1%) is lower than Peace Country (68.6%).\n",
      "Trend in Calgary: upward (significant).\n",
      "Calgary average (63.1%) is lower than Prince Edward Island (73.8%).\n",
      "Trend in Calgary: upward (significant).\n",
      "Calgary average (63.1%) is higher than Quebec (58.3%).\n",
      "Trend in Calgary: upward (significant).\n",
      "Calgary average (63.1%) is lower than Saskatchewan (72.5%).\n",
      "Trend in Calgary: upward (significant).\n",
      "Calgary average (63.1%) is lower than Yukon (76.3%).\n",
      "Trend in Calgary: upward (significant).\n",
      "Calgary average (63.1%) is lower than Central Zone (69.5%).\n",
      "Trend in Calgary: upward (significant).\n",
      "Calgary average (63.1%) is lower than North Zone (67.8%).\n",
      "Trend in Calgary: upward (significant).\n",
      "Calgary average (63.1%) is lower than Nova Scotia (73.0%).\n",
      "Trend in Calgary: upward (significant).\n",
      "Calgary average (63.1%) is lower than South Zone (72.0%).\n",
      "Trend in Calgary: upward (significant).\n",
      "Calgary average (63.1%) is lower than Edmonton (66.2%).\n",
      "Trend in Calgary: upward (significant).\n",
      "Calgary average (63.1%) is lower than Large Urban Alberta (66.8%).\n",
      "Trend in Calgary: upward (significant).\n",
      "Calgary average (63.1%) is lower than Lethbridge (70.6%).\n",
      "Trend in Calgary: upward (significant).\n",
      "Calgary average (63.1%) is lower than Medium Alberta (68.3%).\n",
      "Trend in Calgary: upward (significant).\n",
      "Calgary average (63.1%) is lower than Ontario (70.1%).\n",
      "Trend in Calgary: upward (significant).\n",
      "Calgary average (63.1%) is lower than Rural Alberta (73.0%).\n",
      "Trend in Calgary: upward (significant).\n",
      "Calgary average (63.1%) is lower than Small Alberta (72.5%).\n",
      "Trend in Calgary: upward (significant).\n",
      "\n",
      "\n"
     ]
    }
   ],
   "source": [
    "#Example usage: Summarize all indicators (add your regions list if needed)\n",
    "indicators = ['perceived mental health good', 'perceived mental health poor', 'life satisfaction', 'life stress', 'sense of belonging']\n",
    "for ind in indicators:\n",
    "    summarize_indicator(ind)\n",
    "    print(\"\\n\")"
   ]
  },
  {
   "cell_type": "code",
   "execution_count": 6,
   "id": "f303c27c",
   "metadata": {},
   "outputs": [],
   "source": [
    "# #Example: summarize life stress indicator\n",
    "# print(\"indicator summarized: life stress\")\n",
    "# summarize_indicator('life stress', regions=['Calgary', 'Lethbridge', 'Alberta', 'Canada', 'Edmonton', 'Manitoba', 'Saskatchewan'])\n"
   ]
  },
  {
   "cell_type": "code",
   "execution_count": 7,
   "id": "fd16c45d",
   "metadata": {},
   "outputs": [
    {
     "name": "stdout",
     "output_type": "stream",
     "text": [
      "indicator summarized: anxiety disorder\n",
      "Summary for anxiety disorder:\n",
      "      region  min min_period  max max_period  average             trend\n",
      "     Calgary 12.2  2021/2022 12.2  2021/2022     12.2 insufficient data\n",
      "  Lethbridge 17.6  2021/2022 17.6  2021/2022     17.6 insufficient data\n",
      "     Alberta 12.8  2021/2022 12.8  2021/2022     12.8 insufficient data\n",
      "      Canada 12.7  2021/2022 12.7  2021/2022     12.7 insufficient data\n",
      "    Edmonton 12.9  2021/2022 12.9  2021/2022     12.9 insufficient data\n",
      "    Manitoba 11.6  2021/2022 11.6  2021/2022     11.6 insufficient data\n",
      "Saskatchewan 13.1  2021/2022 13.1  2021/2022     13.1 insufficient data\n",
      "\n",
      "Calgary Comparisons:\n",
      "Calgary average (12.2%) is lower than Lethbridge (17.6%).\n",
      "Trend in Calgary: insufficient data.\n",
      "Calgary average (12.2%) is lower than Alberta (12.8%).\n",
      "Trend in Calgary: insufficient data.\n",
      "Calgary average (12.2%) is lower than Canada (12.7%).\n",
      "Trend in Calgary: insufficient data.\n",
      "Calgary average (12.2%) is lower than Edmonton (12.9%).\n",
      "Trend in Calgary: insufficient data.\n",
      "Calgary average (12.2%) is higher than Manitoba (11.6%).\n",
      "Trend in Calgary: insufficient data.\n",
      "Calgary average (12.2%) is lower than Saskatchewan (13.1%).\n",
      "Trend in Calgary: insufficient data.\n"
     ]
    },
    {
     "data": {
      "text/html": [
       "<div>\n",
       "<style scoped>\n",
       "    .dataframe tbody tr th:only-of-type {\n",
       "        vertical-align: middle;\n",
       "    }\n",
       "\n",
       "    .dataframe tbody tr th {\n",
       "        vertical-align: top;\n",
       "    }\n",
       "\n",
       "    .dataframe thead th {\n",
       "        text-align: right;\n",
       "    }\n",
       "</style>\n",
       "<table border=\"1\" class=\"dataframe\">\n",
       "  <thead>\n",
       "    <tr style=\"text-align: right;\">\n",
       "      <th></th>\n",
       "      <th>region</th>\n",
       "      <th>min</th>\n",
       "      <th>min_period</th>\n",
       "      <th>max</th>\n",
       "      <th>max_period</th>\n",
       "      <th>average</th>\n",
       "      <th>trend</th>\n",
       "    </tr>\n",
       "  </thead>\n",
       "  <tbody>\n",
       "    <tr>\n",
       "      <th>0</th>\n",
       "      <td>Calgary</td>\n",
       "      <td>12.2</td>\n",
       "      <td>2021/2022</td>\n",
       "      <td>12.2</td>\n",
       "      <td>2021/2022</td>\n",
       "      <td>12.2</td>\n",
       "      <td>insufficient data</td>\n",
       "    </tr>\n",
       "    <tr>\n",
       "      <th>1</th>\n",
       "      <td>Lethbridge</td>\n",
       "      <td>17.6</td>\n",
       "      <td>2021/2022</td>\n",
       "      <td>17.6</td>\n",
       "      <td>2021/2022</td>\n",
       "      <td>17.6</td>\n",
       "      <td>insufficient data</td>\n",
       "    </tr>\n",
       "    <tr>\n",
       "      <th>2</th>\n",
       "      <td>Alberta</td>\n",
       "      <td>12.8</td>\n",
       "      <td>2021/2022</td>\n",
       "      <td>12.8</td>\n",
       "      <td>2021/2022</td>\n",
       "      <td>12.8</td>\n",
       "      <td>insufficient data</td>\n",
       "    </tr>\n",
       "    <tr>\n",
       "      <th>3</th>\n",
       "      <td>Canada</td>\n",
       "      <td>12.7</td>\n",
       "      <td>2021/2022</td>\n",
       "      <td>12.7</td>\n",
       "      <td>2021/2022</td>\n",
       "      <td>12.7</td>\n",
       "      <td>insufficient data</td>\n",
       "    </tr>\n",
       "    <tr>\n",
       "      <th>4</th>\n",
       "      <td>Edmonton</td>\n",
       "      <td>12.9</td>\n",
       "      <td>2021/2022</td>\n",
       "      <td>12.9</td>\n",
       "      <td>2021/2022</td>\n",
       "      <td>12.9</td>\n",
       "      <td>insufficient data</td>\n",
       "    </tr>\n",
       "    <tr>\n",
       "      <th>5</th>\n",
       "      <td>Manitoba</td>\n",
       "      <td>11.6</td>\n",
       "      <td>2021/2022</td>\n",
       "      <td>11.6</td>\n",
       "      <td>2021/2022</td>\n",
       "      <td>11.6</td>\n",
       "      <td>insufficient data</td>\n",
       "    </tr>\n",
       "    <tr>\n",
       "      <th>6</th>\n",
       "      <td>Saskatchewan</td>\n",
       "      <td>13.1</td>\n",
       "      <td>2021/2022</td>\n",
       "      <td>13.1</td>\n",
       "      <td>2021/2022</td>\n",
       "      <td>13.1</td>\n",
       "      <td>insufficient data</td>\n",
       "    </tr>\n",
       "  </tbody>\n",
       "</table>\n",
       "</div>"
      ],
      "text/plain": [
       "         region   min min_period   max max_period  average              trend\n",
       "0       Calgary  12.2  2021/2022  12.2  2021/2022     12.2  insufficient data\n",
       "1    Lethbridge  17.6  2021/2022  17.6  2021/2022     17.6  insufficient data\n",
       "2       Alberta  12.8  2021/2022  12.8  2021/2022     12.8  insufficient data\n",
       "3        Canada  12.7  2021/2022  12.7  2021/2022     12.7  insufficient data\n",
       "4      Edmonton  12.9  2021/2022  12.9  2021/2022     12.9  insufficient data\n",
       "5      Manitoba  11.6  2021/2022  11.6  2021/2022     11.6  insufficient data\n",
       "6  Saskatchewan  13.1  2021/2022  13.1  2021/2022     13.1  insufficient data"
      ]
     },
     "execution_count": 7,
     "metadata": {},
     "output_type": "execute_result"
    }
   ],
   "source": [
    "#Example: summarize anxiety disorder indicator\n",
    "print(\"indicator summarized: anxiety disorder\")\n",
    "summarize_indicator('anxiety disorder', regions=['Calgary', 'Lethbridge', 'Alberta', 'Canada', 'Edmonton', 'Manitoba', 'Saskatchewan'])"
   ]
  },
  {
   "cell_type": "code",
   "execution_count": 8,
   "id": "a06355d8",
   "metadata": {},
   "outputs": [],
   "source": [
    "# # Example plot (like your original, for perceived mental health good)\n",
    "# regions_plot = ['Calgary', 'Alberta', 'Canada']  # Add more regions as needed\n",
    "# data_plot = pd.DataFrame()\n",
    "# for reg in regions_plot:\n",
    "#     if reg in data_dict:\n",
    "#         df_reg = data_dict[reg][['perceived mental health good_percent']].reset_index()\n",
    "#         df_reg['region'] = reg\n",
    "#         data_plot = pd.concat([data_plot, df_reg])\n",
    "\n",
    "# if not data_plot.empty:\n",
    "#     fig = px.bar(data_plot, x='period', y='perceived mental health good_percent', color='region', barmode='group',\n",
    "#                  title='Perceived Mental Health Good (%) Over Time')\n",
    "#     fig.update_layout(yaxis_title='Percentage (%)', xaxis_title='Period', legend_title='Region')\n",
    "#     fig.show()\n",
    "# else:\n",
    "#     print(\"No plot data available.\")"
   ]
  },
  {
   "cell_type": "code",
   "execution_count": 9,
   "id": "1178e321",
   "metadata": {},
   "outputs": [
    {
     "data": {
      "application/vnd.plotly.v1+json": {
       "config": {
        "plotlyServerURL": "https://plot.ly"
       },
       "data": [
        {
         "alignmentgroup": "True",
         "hovertemplate": "Region=Calgary<br>Period=%{x}<br>Percentage (%)=%{y}<extra></extra>",
         "legendgroup": "Calgary",
         "marker": {
          "color": "#FF8C00",
          "pattern": {
           "shape": ""
          }
         },
         "name": "Calgary",
         "offsetgroup": "Calgary",
         "orientation": "v",
         "showlegend": true,
         "textposition": "auto",
         "type": "bar",
         "x": [
          "2003",
          "2005",
          "2007/2008",
          "2009/2010",
          "2011/2012",
          "2013/2014",
          "2015/2016",
          "2017/2018",
          "2019/2020",
          "2021/2022"
         ],
         "xaxis": "x",
         "y": {
          "bdata": "MzMzMzOzUkDNzMzMzAxTQDMzMzMzc1NAMzMzMzOzUkAzMzMzMxNTQAAAAAAAQFJAAAAAAADgUkAAAAAAAOBRQAAAAAAAoFBAmpmZmZnZTEA=",
          "dtype": "f8"
         },
         "yaxis": "y"
        },
        {
         "alignmentgroup": "True",
         "hovertemplate": "Region=Alberta<br>Period=%{x}<br>Percentage (%)=%{y}<extra></extra>",
         "legendgroup": "Alberta",
         "marker": {
          "color": "#0000FF",
          "pattern": {
           "shape": ""
          }
         },
         "name": "Alberta",
         "offsetgroup": "Alberta",
         "orientation": "v",
         "showlegend": true,
         "textposition": "auto",
         "type": "bar",
         "x": [
          "2003",
          "2005",
          "2007/2008",
          "2009/2010",
          "2011/2012",
          "2013/2014",
          "2015/2016",
          "2017/2018",
          "2019/2020",
          "2021/2022"
         ],
         "xaxis": "x",
         "y": {
          "bdata": "MzMzMzMTUkCamZmZmVlSQAAAAAAAwFJAMzMzMzNzUkCamZmZmTlSQDMzMzMzE1JAzczMzMxsUkAzMzMzM1NRQGZmZmZmhlBAZmZmZmbmS0A=",
          "dtype": "f8"
         },
         "yaxis": "y"
        },
        {
         "alignmentgroup": "True",
         "hovertemplate": "Region=Canada<br>Period=%{x}<br>Percentage (%)=%{y}<extra></extra>",
         "legendgroup": "Canada",
         "marker": {
          "color": "#008000",
          "pattern": {
           "shape": ""
          }
         },
         "name": "Canada",
         "offsetgroup": "Canada",
         "orientation": "v",
         "showlegend": true,
         "textposition": "auto",
         "type": "bar",
         "x": [
          "2003",
          "2005",
          "2007/2008",
          "2009/2010",
          "2011/2012",
          "2013/2014",
          "2015/2016",
          "2017/2018",
          "2019/2020",
          "2021/2022"
         ],
         "xaxis": "x",
         "y": {
          "bdata": "ZmZmZmbmUUCamZmZmTlSQGZmZmZmplJAmpmZmZl5UkDNzMzMzAxSQGZmZmZmxlFAZmZmZmbmUUCamZmZmVlRQAAAAAAAgFBAMzMzMzNzTEA=",
          "dtype": "f8"
         },
         "yaxis": "y"
        }
       ],
       "layout": {
        "barmode": "group",
        "height": 500,
        "legend": {
         "title": {
          "text": "Region"
         },
         "tracegroupgap": 0
        },
        "template": {
         "data": {
          "bar": [
           {
            "error_x": {
             "color": "#2a3f5f"
            },
            "error_y": {
             "color": "#2a3f5f"
            },
            "marker": {
             "line": {
              "color": "#E5ECF6",
              "width": 0.5
             },
             "pattern": {
              "fillmode": "overlay",
              "size": 10,
              "solidity": 0.2
             }
            },
            "type": "bar"
           }
          ],
          "barpolar": [
           {
            "marker": {
             "line": {
              "color": "#E5ECF6",
              "width": 0.5
             },
             "pattern": {
              "fillmode": "overlay",
              "size": 10,
              "solidity": 0.2
             }
            },
            "type": "barpolar"
           }
          ],
          "carpet": [
           {
            "aaxis": {
             "endlinecolor": "#2a3f5f",
             "gridcolor": "white",
             "linecolor": "white",
             "minorgridcolor": "white",
             "startlinecolor": "#2a3f5f"
            },
            "baxis": {
             "endlinecolor": "#2a3f5f",
             "gridcolor": "white",
             "linecolor": "white",
             "minorgridcolor": "white",
             "startlinecolor": "#2a3f5f"
            },
            "type": "carpet"
           }
          ],
          "choropleth": [
           {
            "colorbar": {
             "outlinewidth": 0,
             "ticks": ""
            },
            "type": "choropleth"
           }
          ],
          "contour": [
           {
            "colorbar": {
             "outlinewidth": 0,
             "ticks": ""
            },
            "colorscale": [
             [
              0,
              "#0d0887"
             ],
             [
              0.1111111111111111,
              "#46039f"
             ],
             [
              0.2222222222222222,
              "#7201a8"
             ],
             [
              0.3333333333333333,
              "#9c179e"
             ],
             [
              0.4444444444444444,
              "#bd3786"
             ],
             [
              0.5555555555555556,
              "#d8576b"
             ],
             [
              0.6666666666666666,
              "#ed7953"
             ],
             [
              0.7777777777777778,
              "#fb9f3a"
             ],
             [
              0.8888888888888888,
              "#fdca26"
             ],
             [
              1,
              "#f0f921"
             ]
            ],
            "type": "contour"
           }
          ],
          "contourcarpet": [
           {
            "colorbar": {
             "outlinewidth": 0,
             "ticks": ""
            },
            "type": "contourcarpet"
           }
          ],
          "heatmap": [
           {
            "colorbar": {
             "outlinewidth": 0,
             "ticks": ""
            },
            "colorscale": [
             [
              0,
              "#0d0887"
             ],
             [
              0.1111111111111111,
              "#46039f"
             ],
             [
              0.2222222222222222,
              "#7201a8"
             ],
             [
              0.3333333333333333,
              "#9c179e"
             ],
             [
              0.4444444444444444,
              "#bd3786"
             ],
             [
              0.5555555555555556,
              "#d8576b"
             ],
             [
              0.6666666666666666,
              "#ed7953"
             ],
             [
              0.7777777777777778,
              "#fb9f3a"
             ],
             [
              0.8888888888888888,
              "#fdca26"
             ],
             [
              1,
              "#f0f921"
             ]
            ],
            "type": "heatmap"
           }
          ],
          "histogram": [
           {
            "marker": {
             "pattern": {
              "fillmode": "overlay",
              "size": 10,
              "solidity": 0.2
             }
            },
            "type": "histogram"
           }
          ],
          "histogram2d": [
           {
            "colorbar": {
             "outlinewidth": 0,
             "ticks": ""
            },
            "colorscale": [
             [
              0,
              "#0d0887"
             ],
             [
              0.1111111111111111,
              "#46039f"
             ],
             [
              0.2222222222222222,
              "#7201a8"
             ],
             [
              0.3333333333333333,
              "#9c179e"
             ],
             [
              0.4444444444444444,
              "#bd3786"
             ],
             [
              0.5555555555555556,
              "#d8576b"
             ],
             [
              0.6666666666666666,
              "#ed7953"
             ],
             [
              0.7777777777777778,
              "#fb9f3a"
             ],
             [
              0.8888888888888888,
              "#fdca26"
             ],
             [
              1,
              "#f0f921"
             ]
            ],
            "type": "histogram2d"
           }
          ],
          "histogram2dcontour": [
           {
            "colorbar": {
             "outlinewidth": 0,
             "ticks": ""
            },
            "colorscale": [
             [
              0,
              "#0d0887"
             ],
             [
              0.1111111111111111,
              "#46039f"
             ],
             [
              0.2222222222222222,
              "#7201a8"
             ],
             [
              0.3333333333333333,
              "#9c179e"
             ],
             [
              0.4444444444444444,
              "#bd3786"
             ],
             [
              0.5555555555555556,
              "#d8576b"
             ],
             [
              0.6666666666666666,
              "#ed7953"
             ],
             [
              0.7777777777777778,
              "#fb9f3a"
             ],
             [
              0.8888888888888888,
              "#fdca26"
             ],
             [
              1,
              "#f0f921"
             ]
            ],
            "type": "histogram2dcontour"
           }
          ],
          "mesh3d": [
           {
            "colorbar": {
             "outlinewidth": 0,
             "ticks": ""
            },
            "type": "mesh3d"
           }
          ],
          "parcoords": [
           {
            "line": {
             "colorbar": {
              "outlinewidth": 0,
              "ticks": ""
             }
            },
            "type": "parcoords"
           }
          ],
          "pie": [
           {
            "automargin": true,
            "type": "pie"
           }
          ],
          "scatter": [
           {
            "fillpattern": {
             "fillmode": "overlay",
             "size": 10,
             "solidity": 0.2
            },
            "type": "scatter"
           }
          ],
          "scatter3d": [
           {
            "line": {
             "colorbar": {
              "outlinewidth": 0,
              "ticks": ""
             }
            },
            "marker": {
             "colorbar": {
              "outlinewidth": 0,
              "ticks": ""
             }
            },
            "type": "scatter3d"
           }
          ],
          "scattercarpet": [
           {
            "marker": {
             "colorbar": {
              "outlinewidth": 0,
              "ticks": ""
             }
            },
            "type": "scattercarpet"
           }
          ],
          "scattergeo": [
           {
            "marker": {
             "colorbar": {
              "outlinewidth": 0,
              "ticks": ""
             }
            },
            "type": "scattergeo"
           }
          ],
          "scattergl": [
           {
            "marker": {
             "colorbar": {
              "outlinewidth": 0,
              "ticks": ""
             }
            },
            "type": "scattergl"
           }
          ],
          "scattermap": [
           {
            "marker": {
             "colorbar": {
              "outlinewidth": 0,
              "ticks": ""
             }
            },
            "type": "scattermap"
           }
          ],
          "scattermapbox": [
           {
            "marker": {
             "colorbar": {
              "outlinewidth": 0,
              "ticks": ""
             }
            },
            "type": "scattermapbox"
           }
          ],
          "scatterpolar": [
           {
            "marker": {
             "colorbar": {
              "outlinewidth": 0,
              "ticks": ""
             }
            },
            "type": "scatterpolar"
           }
          ],
          "scatterpolargl": [
           {
            "marker": {
             "colorbar": {
              "outlinewidth": 0,
              "ticks": ""
             }
            },
            "type": "scatterpolargl"
           }
          ],
          "scatterternary": [
           {
            "marker": {
             "colorbar": {
              "outlinewidth": 0,
              "ticks": ""
             }
            },
            "type": "scatterternary"
           }
          ],
          "surface": [
           {
            "colorbar": {
             "outlinewidth": 0,
             "ticks": ""
            },
            "colorscale": [
             [
              0,
              "#0d0887"
             ],
             [
              0.1111111111111111,
              "#46039f"
             ],
             [
              0.2222222222222222,
              "#7201a8"
             ],
             [
              0.3333333333333333,
              "#9c179e"
             ],
             [
              0.4444444444444444,
              "#bd3786"
             ],
             [
              0.5555555555555556,
              "#d8576b"
             ],
             [
              0.6666666666666666,
              "#ed7953"
             ],
             [
              0.7777777777777778,
              "#fb9f3a"
             ],
             [
              0.8888888888888888,
              "#fdca26"
             ],
             [
              1,
              "#f0f921"
             ]
            ],
            "type": "surface"
           }
          ],
          "table": [
           {
            "cells": {
             "fill": {
              "color": "#EBF0F8"
             },
             "line": {
              "color": "white"
             }
            },
            "header": {
             "fill": {
              "color": "#C8D4E3"
             },
             "line": {
              "color": "white"
             }
            },
            "type": "table"
           }
          ]
         },
         "layout": {
          "annotationdefaults": {
           "arrowcolor": "#2a3f5f",
           "arrowhead": 0,
           "arrowwidth": 1
          },
          "autotypenumbers": "strict",
          "coloraxis": {
           "colorbar": {
            "outlinewidth": 0,
            "ticks": ""
           }
          },
          "colorscale": {
           "diverging": [
            [
             0,
             "#8e0152"
            ],
            [
             0.1,
             "#c51b7d"
            ],
            [
             0.2,
             "#de77ae"
            ],
            [
             0.3,
             "#f1b6da"
            ],
            [
             0.4,
             "#fde0ef"
            ],
            [
             0.5,
             "#f7f7f7"
            ],
            [
             0.6,
             "#e6f5d0"
            ],
            [
             0.7,
             "#b8e186"
            ],
            [
             0.8,
             "#7fbc41"
            ],
            [
             0.9,
             "#4d9221"
            ],
            [
             1,
             "#276419"
            ]
           ],
           "sequential": [
            [
             0,
             "#0d0887"
            ],
            [
             0.1111111111111111,
             "#46039f"
            ],
            [
             0.2222222222222222,
             "#7201a8"
            ],
            [
             0.3333333333333333,
             "#9c179e"
            ],
            [
             0.4444444444444444,
             "#bd3786"
            ],
            [
             0.5555555555555556,
             "#d8576b"
            ],
            [
             0.6666666666666666,
             "#ed7953"
            ],
            [
             0.7777777777777778,
             "#fb9f3a"
            ],
            [
             0.8888888888888888,
             "#fdca26"
            ],
            [
             1,
             "#f0f921"
            ]
           ],
           "sequentialminus": [
            [
             0,
             "#0d0887"
            ],
            [
             0.1111111111111111,
             "#46039f"
            ],
            [
             0.2222222222222222,
             "#7201a8"
            ],
            [
             0.3333333333333333,
             "#9c179e"
            ],
            [
             0.4444444444444444,
             "#bd3786"
            ],
            [
             0.5555555555555556,
             "#d8576b"
            ],
            [
             0.6666666666666666,
             "#ed7953"
            ],
            [
             0.7777777777777778,
             "#fb9f3a"
            ],
            [
             0.8888888888888888,
             "#fdca26"
            ],
            [
             1,
             "#f0f921"
            ]
           ]
          },
          "colorway": [
           "#636efa",
           "#EF553B",
           "#00cc96",
           "#ab63fa",
           "#FFA15A",
           "#19d3f3",
           "#FF6692",
           "#B6E880",
           "#FF97FF",
           "#FECB52"
          ],
          "font": {
           "color": "#2a3f5f"
          },
          "geo": {
           "bgcolor": "white",
           "lakecolor": "white",
           "landcolor": "#E5ECF6",
           "showlakes": true,
           "showland": true,
           "subunitcolor": "white"
          },
          "hoverlabel": {
           "align": "left"
          },
          "hovermode": "closest",
          "mapbox": {
           "style": "light"
          },
          "paper_bgcolor": "white",
          "plot_bgcolor": "#E5ECF6",
          "polar": {
           "angularaxis": {
            "gridcolor": "white",
            "linecolor": "white",
            "ticks": ""
           },
           "bgcolor": "#E5ECF6",
           "radialaxis": {
            "gridcolor": "white",
            "linecolor": "white",
            "ticks": ""
           }
          },
          "scene": {
           "xaxis": {
            "backgroundcolor": "#E5ECF6",
            "gridcolor": "white",
            "gridwidth": 2,
            "linecolor": "white",
            "showbackground": true,
            "ticks": "",
            "zerolinecolor": "white"
           },
           "yaxis": {
            "backgroundcolor": "#E5ECF6",
            "gridcolor": "white",
            "gridwidth": 2,
            "linecolor": "white",
            "showbackground": true,
            "ticks": "",
            "zerolinecolor": "white"
           },
           "zaxis": {
            "backgroundcolor": "#E5ECF6",
            "gridcolor": "white",
            "gridwidth": 2,
            "linecolor": "white",
            "showbackground": true,
            "ticks": "",
            "zerolinecolor": "white"
           }
          },
          "shapedefaults": {
           "line": {
            "color": "#2a3f5f"
           }
          },
          "ternary": {
           "aaxis": {
            "gridcolor": "white",
            "linecolor": "white",
            "ticks": ""
           },
           "baxis": {
            "gridcolor": "white",
            "linecolor": "white",
            "ticks": ""
           },
           "bgcolor": "#E5ECF6",
           "caxis": {
            "gridcolor": "white",
            "linecolor": "white",
            "ticks": ""
           }
          },
          "title": {
           "x": 0.05
          },
          "xaxis": {
           "automargin": true,
           "gridcolor": "white",
           "linecolor": "white",
           "ticks": "",
           "title": {
            "standoff": 15
           },
           "zerolinecolor": "white",
           "zerolinewidth": 2
          },
          "yaxis": {
           "automargin": true,
           "gridcolor": "white",
           "linecolor": "white",
           "ticks": "",
           "title": {
            "standoff": 15
           },
           "zerolinecolor": "white",
           "zerolinewidth": 2
          }
         }
        },
        "title": {
         "text": "Perceived Mental Health Good (%) Over Time"
        },
        "width": 800,
        "xaxis": {
         "anchor": "y",
         "categoryarray": [
          "2003",
          "2005",
          "2007/2008",
          "2009/2010",
          "2011/2012",
          "2013/2014",
          "2015/2016",
          "2017/2018",
          "2019/2020",
          "2021/2022"
         ],
         "categoryorder": "array",
         "domain": [
          0,
          1
         ],
         "title": {
          "text": "Period"
         }
        },
        "yaxis": {
         "anchor": "x",
         "domain": [
          0,
          1
         ],
         "range": [
          0,
          100
         ],
         "title": {
          "text": "Percentage (%)"
         }
        }
       }
      }
     },
     "metadata": {},
     "output_type": "display_data"
    }
   ],
   "source": [
    "# List of indicators to graph (only perceived mental health good)\n",
    "indicators = ['perceived mental health good']\n",
    "\n",
    "# Colors for regions (customize as needed, e.g., to match report's orange theme)\n",
    "region_colors = {'Calgary': '#FF8C00', 'Alberta': '#0000FF', 'Canada': '#008000'}\n",
    "\n",
    "# Loop over each indicator (just one) and create a bar graph\n",
    "for ind in indicators:\n",
    "    # Collect data from each region\n",
    "    dfs = []\n",
    "    for reg in ['Calgary', 'Alberta', 'Canada']:\n",
    "        if reg in data_dict and f'{ind}_percent' in data_dict[reg].columns:\n",
    "            df = data_dict[reg][[f'{ind}_percent']].reset_index()\n",
    "            df['region'] = reg\n",
    "            df = df.rename(columns={f'{ind}_percent': 'value', 'period': 'period'})\n",
    "            dfs.append(df)\n",
    "    \n",
    "    if dfs:\n",
    "        combined_df = pd.concat(dfs)\n",
    "        \n",
    "        # Create grouped bar graph\n",
    "        fig = px.bar(combined_df, x='period', y='value', color='region', barmode='group',\n",
    "                     title='Perceived Mental Health Good (%) Over Time',\n",
    "                     labels={'value': 'Percentage (%)', 'period': 'Period', 'region': 'Region'},\n",
    "                     color_discrete_map=region_colors)\n",
    "        \n",
    "        fig.update_layout(xaxis={'categoryorder': 'array', 'categoryarray': combined_df['period'].unique()},  # Preserve order\n",
    "                          yaxis_range=[0, 100],  # Assume 0-100% scale\n",
    "                          height=500, width=800)\n",
    "        fig.show()\n",
    "    else:\n",
    "        print(f\"No data for {ind}\")"
   ]
  }
 ],
 "metadata": {
  "kernelspec": {
   "display_name": "data_3_11",
   "language": "python",
   "name": "python3"
  },
  "language_info": {
   "codemirror_mode": {
    "name": "ipython",
    "version": 3
   },
   "file_extension": ".py",
   "mimetype": "text/x-python",
   "name": "python",
   "nbconvert_exporter": "python",
   "pygments_lexer": "ipython3",
   "version": "3.11.4"
  }
 },
 "nbformat": 4,
 "nbformat_minor": 5
}
